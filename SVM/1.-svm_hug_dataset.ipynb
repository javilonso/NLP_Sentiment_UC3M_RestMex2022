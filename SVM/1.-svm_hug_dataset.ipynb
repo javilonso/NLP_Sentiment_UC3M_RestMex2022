{
 "cells": [
  {
   "cell_type": "code",
   "execution_count": 2,
   "id": "a7c21e44-899c-412c-8b41-1978969a74fc",
   "metadata": {},
   "outputs": [
    {
     "name": "stdout",
     "output_type": "stream",
     "text": [
      "Defaulting to user installation because normal site-packages is not writeable\n",
      "Requirement already satisfied: gensim==3.8.1 in /home/javilonso/.local/lib/python3.6/site-packages (3.8.1)\n",
      "Requirement already satisfied: smart-open>=1.8.1 in /home/javilonso/.local/lib/python3.6/site-packages (from gensim==3.8.1) (5.2.1)\n",
      "Requirement already satisfied: numpy>=1.11.3 in /home/javilonso/.local/lib/python3.6/site-packages (from gensim==3.8.1) (1.19.5)\n",
      "Requirement already satisfied: six>=1.5.0 in /home/javilonso/.local/lib/python3.6/site-packages (from gensim==3.8.1) (1.15.0)\n",
      "Requirement already satisfied: scipy>=0.18.1 in /home/javilonso/.local/lib/python3.6/site-packages (from gensim==3.8.1) (1.5.4)\n",
      "\u001b[33mWARNING: You are using pip version 21.2.4; however, version 21.3.1 is available.\n",
      "You should consider upgrading via the '/usr/bin/python3 -m pip install --upgrade pip' command.\u001b[0m\n"
     ]
    }
   ],
   "source": [
    "!pip install gensim==3.8.1\n",
    "from gensim.models import KeyedVectors\n",
    "\n",
    "path_model = \"embeddings-l-model.vec\"\n",
    "# Load vectors directly from the file\n",
    "modelWV = KeyedVectors.load_word2vec_format(path_model, limit=300000)\n",
    "DIMENSION=300"
   ]
  },
  {
   "cell_type": "raw",
   "id": "1cdf1d09-21f0-4476-996d-61f8282aef5f",
   "metadata": {},
   "source": [
    "-------- DATA --------"
   ]
  },
  {
   "cell_type": "code",
   "execution_count": 3,
   "id": "fe542bb2-1ad9-4714-900b-029f37b679f9",
   "metadata": {},
   "outputs": [
    {
     "name": "stderr",
     "output_type": "stream",
     "text": [
      "Using custom data configuration javilonso--mex_data-0c030e0c8e30da9e\n",
      "Reusing dataset parquet (/home/javilonso/.cache/huggingface/datasets/parquet/javilonso--mex_data-0c030e0c8e30da9e/0.0.0/0b6d5799bb726b24ad7fc7be720c170d8e497f575d02d47537de9a5bac074901)\n"
     ]
    },
    {
     "data": {
      "application/vnd.jupyter.widget-view+json": {
       "model_id": "36917138f100465196b713385eb6f47a",
       "version_major": 2,
       "version_minor": 0
      },
      "text/plain": [
       "  0%|          | 0/2 [00:00<?, ?it/s]"
      ]
     },
     "metadata": {},
     "output_type": "display_data"
    }
   ],
   "source": [
    "from datasets import load_dataset, DatasetDict\n",
    "\n",
    "raw_dataset = load_dataset(\"javilonso/mex_data\", use_auth_token=True)"
   ]
  },
  {
   "cell_type": "code",
   "execution_count": 15,
   "id": "19d498ea-21b1-429a-a6ee-4c4c8c60370c",
   "metadata": {},
   "outputs": [],
   "source": [
    "# Extract data\n",
    "X_train = raw_dataset['train']['Opinion']\n",
    "y_train_attraction = raw_dataset['train']['Attraction']\n",
    "y_train_polarity = raw_dataset['train']['Polarity']\n",
    "\n",
    "X_test = raw_dataset['test']['Opinion']\n",
    "y_test_attraction = raw_dataset['test']['Attraction']\n",
    "y_test_polarity = raw_dataset['test']['Polarity']\n"
   ]
  },
  {
   "cell_type": "code",
   "execution_count": 8,
   "id": "84e94430-60fe-49e9-8602-4322e27ecfcb",
   "metadata": {},
   "outputs": [],
   "source": [
    "import numpy as np\n",
    "\n",
    "def getDocVec(text):\n",
    "    \"\"\"gets a text and returns a vector for this text\"\"\"\n",
    "\n",
    "    tokens=text.split()\n",
    "    data=[]\n",
    "    n=0\n",
    "    for token in tokens:\n",
    "        token=token.lower()\n",
    "        if token in modelWV.vocab:\n",
    "            data.append(modelWV[token])\n",
    "            n += 1\n",
    "            \n",
    "    if len(data)>0:     \n",
    "        #vectors = np.array(data)\n",
    "        res = [sum(i)/n for i in zip(*data)]\n",
    "    else:\n",
    "        res =[0]*DIMENSION\n",
    "\n",
    "    #return np.average(vectors, axis=0)\n",
    "    return res\n",
    "\n",
    "# text=\"Esto es un ejemplo de texto\"\n",
    "# print(len(getDocVec(text)))"
   ]
  },
  {
   "cell_type": "code",
   "execution_count": 9,
   "id": "bbf3eb12-eb02-4527-bcaa-9d79b6957dc9",
   "metadata": {},
   "outputs": [
    {
     "name": "stdout",
     "output_type": "stream",
     "text": [
      "text vectors for training were created\n"
     ]
    }
   ],
   "source": [
    "X_vectors_train = []\n",
    "for text in X_train:\n",
    "  docVector = getDocVec(text)\n",
    "  X_vectors_train.append(docVector)\n",
    "  \n",
    "print('text vectors for training were created' )"
   ]
  },
  {
   "cell_type": "code",
   "execution_count": 10,
   "id": "9dbd03f9-270e-422a-b1bc-585a83e88357",
   "metadata": {},
   "outputs": [
    {
     "name": "stdout",
     "output_type": "stream",
     "text": [
      "text vectors for test were created\n"
     ]
    }
   ],
   "source": [
    "X_vectors_test = []\n",
    "for text in X_test:\n",
    "  docVector=getDocVec(text)\n",
    "  X_vectors_test.append(docVector)\n",
    "  \n",
    "print('text vectors for test were created' )"
   ]
  },
  {
   "cell_type": "code",
   "execution_count": 11,
   "id": "d80f93d8-55d8-4954-a675-4b285dd568a1",
   "metadata": {},
   "outputs": [
    {
     "name": "stdout",
     "output_type": "stream",
     "text": [
      "23944 23944\n",
      "300\n",
      "5987 5987\n"
     ]
    }
   ],
   "source": [
    "print(len(X_vectors_train), len(y_train_attraction))\n",
    "print(len(X_vectors_train[0]))\n",
    "print(len(X_vectors_test), len(y_test_attraction))\n"
   ]
  },
  {
   "cell_type": "raw",
   "id": "7377c9c9-a133-47a2-9749-544b47fe4f01",
   "metadata": {},
   "source": [
    "-------- ATTRACTION MODEL --------"
   ]
  },
  {
   "cell_type": "code",
   "execution_count": 12,
   "id": "ab3761bf-92c3-4d8e-857b-59356736b172",
   "metadata": {},
   "outputs": [
    {
     "name": "stdout",
     "output_type": "stream",
     "text": [
      "model was trained!!\n"
     ]
    }
   ],
   "source": [
    "from sklearn import svm\n",
    "\n",
    "modelSVM=svm.SVC()\n",
    "modelSVM.fit(X_vectors_train, y_train_attraction)\n",
    "print('model was trained!!')"
   ]
  },
  {
   "cell_type": "code",
   "execution_count": 13,
   "id": "09c43d16-0709-4f59-939f-4e86c96e7a65",
   "metadata": {},
   "outputs": [
    {
     "name": "stdout",
     "output_type": "stream",
     "text": [
      "              precision    recall  f1-score   support\n",
      "\n",
      "           0       0.96      0.97      0.96      3265\n",
      "           1       0.93      0.91      0.92      1667\n",
      "           2       0.97      0.97      0.97      1055\n",
      "\n",
      "    accuracy                           0.95      5987\n",
      "   macro avg       0.95      0.95      0.95      5987\n",
      "weighted avg       0.95      0.95      0.95      5987\n",
      "\n"
     ]
    }
   ],
   "source": [
    "# TEST Predictions\n",
    "from sklearn.metrics import classification_report\n",
    "\n",
    "y_pred=modelSVM.predict(X_vectors_test)\n",
    "print(classification_report(y_test_attraction, y_pred))\n"
   ]
  },
  {
   "cell_type": "raw",
   "id": "dd17492e-dc1d-41cd-97cd-0f0b705220fb",
   "metadata": {},
   "source": [
    "-------- POLARITY MODEL --------"
   ]
  },
  {
   "cell_type": "code",
   "execution_count": 16,
   "id": "a45c4444-f50a-4cc9-a146-712f68e4511a",
   "metadata": {},
   "outputs": [
    {
     "name": "stdout",
     "output_type": "stream",
     "text": [
      "model was trained!!\n"
     ]
    }
   ],
   "source": [
    "from sklearn import svm\n",
    "\n",
    "modelSVM=svm.SVC()\n",
    "modelSVM.fit(X_vectors_train,y_train_polarity)\n",
    "print('model was trained!!')"
   ]
  },
  {
   "cell_type": "code",
   "execution_count": 17,
   "id": "6b0b78a3-0b72-4a23-b48d-927b8539415e",
   "metadata": {},
   "outputs": [
    {
     "name": "stdout",
     "output_type": "stream",
     "text": [
      "              precision    recall  f1-score   support\n",
      "\n",
      "           0       0.40      0.02      0.04       100\n",
      "           1       0.00      0.00      0.00       140\n",
      "           2       0.41      0.18      0.25       408\n",
      "           3       0.00      0.00      0.00      1148\n",
      "           4       0.72      1.00      0.84      4191\n",
      "\n",
      "    accuracy                           0.71      5987\n",
      "   macro avg       0.31      0.24      0.22      5987\n",
      "weighted avg       0.54      0.71      0.60      5987\n",
      "\n"
     ]
    },
    {
     "name": "stderr",
     "output_type": "stream",
     "text": [
      "/home/javilonso/.local/lib/python3.6/site-packages/sklearn/metrics/_classification.py:1248: UndefinedMetricWarning: Precision and F-score are ill-defined and being set to 0.0 in labels with no predicted samples. Use `zero_division` parameter to control this behavior.\n",
      "  _warn_prf(average, modifier, msg_start, len(result))\n",
      "/home/javilonso/.local/lib/python3.6/site-packages/sklearn/metrics/_classification.py:1248: UndefinedMetricWarning: Precision and F-score are ill-defined and being set to 0.0 in labels with no predicted samples. Use `zero_division` parameter to control this behavior.\n",
      "  _warn_prf(average, modifier, msg_start, len(result))\n",
      "/home/javilonso/.local/lib/python3.6/site-packages/sklearn/metrics/_classification.py:1248: UndefinedMetricWarning: Precision and F-score are ill-defined and being set to 0.0 in labels with no predicted samples. Use `zero_division` parameter to control this behavior.\n",
      "  _warn_prf(average, modifier, msg_start, len(result))\n"
     ]
    }
   ],
   "source": [
    "# TEST Predictions\n",
    "from sklearn.metrics import classification_report\n",
    "\n",
    "y_pred=modelSVM.predict(X_vectors_test)\n",
    "print(classification_report(y_test_polarity, y_pred))\n"
   ]
  },
  {
   "cell_type": "code",
   "execution_count": null,
   "id": "0744df20-bfc7-4fc2-afea-ad8f5561792f",
   "metadata": {},
   "outputs": [],
   "source": []
  }
 ],
 "metadata": {
  "kernelspec": {
   "display_name": "Python 3",
   "language": "python",
   "name": "python3"
  },
  "language_info": {
   "codemirror_mode": {
    "name": "ipython",
    "version": 3
   },
   "file_extension": ".py",
   "mimetype": "text/x-python",
   "name": "python",
   "nbconvert_exporter": "python",
   "pygments_lexer": "ipython3",
   "version": "3.6.9"
  }
 },
 "nbformat": 4,
 "nbformat_minor": 5
}
