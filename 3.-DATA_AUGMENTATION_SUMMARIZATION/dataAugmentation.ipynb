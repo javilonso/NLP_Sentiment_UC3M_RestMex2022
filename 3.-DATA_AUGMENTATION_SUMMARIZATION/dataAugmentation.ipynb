{
 "cells": [
  {
   "cell_type": "code",
   "execution_count": 21,
   "metadata": {},
   "outputs": [
    {
     "name": "stderr",
     "output_type": "stream",
     "text": [
      "Using custom data configuration default-13c2fcae2abc0c4d\n",
      "Reusing dataset csv (/home/javilonso/.cache/huggingface/datasets/csv/default-13c2fcae2abc0c4d/0.0.0/433e0ccc46f9880962cc2b12065189766fbb2bee57a221866138fb9203c83519)\n"
     ]
    },
    {
     "data": {
      "application/vnd.jupyter.widget-view+json": {
       "model_id": "ec43795023e641a6810a05da77581ab2",
       "version_major": 2,
       "version_minor": 0
      },
      "text/plain": [
       "  0%|          | 0/1 [00:00<?, ?it/s]"
      ]
     },
     "metadata": {},
     "output_type": "display_data"
    }
   ],
   "source": [
    "from datasets import load_dataset\n",
    "import numpy as np\n",
    "\n",
    "raw_dataset = load_dataset(\"csv\", data_files=\"home/javilonso/NLP_Sentiment_UC3M/1.-DATA/dataset/Rest_Mex_2022_Sentiment_Analysis_Track_Train.csv\", delimiter=\";\")"
   ]
  },
  {
   "cell_type": "code",
   "execution_count": 22,
   "metadata": {},
   "outputs": [],
   "source": [
    "from transformers import pipeline\n",
    "\n",
    "summarizer = pipeline(\"summarization\", model=\"csebuetnlp/mT5_multilingual_XLSum\")"
   ]
  },
  {
   "cell_type": "code",
   "execution_count": 31,
   "metadata": {},
   "outputs": [
    {
     "name": "stdout",
     "output_type": "stream",
     "text": [
      "DatasetDict({\n",
      "    train: Dataset({\n",
      "        features: ['Title', 'Opinion', 'Polarity', 'Attraction'],\n",
      "        num_rows: 30212\n",
      "    })\n",
      "})\n"
     ]
    }
   ],
   "source": [
    "#Data augmentation\n",
    "## 1 * 4 steps\n",
    "## 2 * 3 steps\n",
    "## 3 * 2 steps\n",
    "\n",
    "steps = {\n",
    "    1: 5,\n",
    "    2: 4,\n",
    "    3: 3\n",
    "}\n",
    "\n",
    "print(raw_dataset)\n",
    "#remove filter for whole dataset\n",
    "# raw_dataset = raw_dataset.filter(lambda e, i: i<3, with_indices=True)\n",
    "# print(raw_dataset)\n",
    "\n",
    "def augment_data(examples):\n",
    "    index = 0\n",
    "    elements = examples[\"Opinion\"].copy()\n",
    "    for item in elements:\n",
    "        print(index)\n",
    "        if examples[\"Polarity\"][index] == 1 or examples[\"Polarity\"][index] == 2 or examples[\"Polarity\"][index] == 3:\n",
    "            for i in range(1,steps[examples[\"Polarity\"][index]]):\n",
    "                percentage = 100 - 20 * i\n",
    "                lenght = 0\n",
    "                print(len(item.split()))\n",
    "                if len(item.split()) > 100:\n",
    "                    lenght = 100\n",
    "                else: \n",
    "                    lenght = len(item.split())\n",
    "                output = summarizer(item, min_length=int(lenght * percentage / 100), max_length=lenght)\n",
    "                examples[\"Title\"].append(examples[\"Title\"][index])\n",
    "                examples[\"Opinion\"].append(output[0][\"summary_text\"])\n",
    "                examples[\"Polarity\"].append(examples[\"Polarity\"][index])\n",
    "                examples[\"Attraction\"].append(examples[\"Attraction\"][index])\n",
    "            index += 1\n",
    "    return examples\n"
   ]
  },
  {
   "cell_type": "code",
   "execution_count": null,
   "metadata": {},
   "outputs": [],
   "source": [
    "raw_dataset = raw_dataset.map(augment_data, batched=True)"
   ]
  },
  {
   "cell_type": "code",
   "execution_count": 61,
   "metadata": {},
   "outputs": [
    {
     "data": {
      "text/plain": [
       "{'Title': 'Segunda vez allí',\n",
       " 'Opinion': 'Esta visita de regreso era 365 días en la reserva. Mi marido y yo comimos aquí cuando estábamos de vacaciones en el mismo sitio el año pasado. Tuvimos una increíble comida año pasado que hemos estado muriendo a volver.\\nAquí está lo que necesita saber:\\nhacer una reserva. Esto lo hicimos esta vez. Aprendimos nuestra lección. Año pasado no tienen uno y esperamos una hora para conseguir una mesa. Este año nos sabía más y nos acomodaron enseguida (aunque llegamos después de una pareja que no tenía una reserva).\\nPedimos el mismo año pasado (porque era lo que nos trajeron de nuevo, después de todo). Empezamos con el aperitivo de costilla y luego cada uno tenía una orden de las fajitas de Presidente (pollo, bistec y camarones). Un poco de todo. La salsa en las costillas es delicioso. Mi marido estaba rondan los nachos caseros (que te dan con salsa cuando estás sentado) en que tras las costillas habían desaparecido. Las tortillas que se sirven para las fajitas son increíbles. Otra vez, casera y nada como los envasados llegar a la tienda de comestibles en Canadá. Son muy luminosas y bien hecho. También hay no hay escasez de guarnición para la fajitas; arroz, frijoles, guacamole, queso ... etc. todo está allí.\\nDesafortunadamente, estábamos demasiado lleno para el postre.\\nCuando haya terminado, usted necesita a preguntarle por su cuenta. Si te sientas allí y esperar para ellos (incluso si les dices que no quieres nada más) puede estar esperando por un tiempo muy largo.\\nNo tuvimos ningún problema con la velocidad del servicio. Teniendo en cuenta su México, qué moverse un poco más lento que estamos acostumbrados, no esperar demasiado tiempo para el servicio o la comida.\\nEl precio era genial. Teníamos 3 Coronas, aperitivo, y dos comidas y el daño total salió a sobre el equivalente a $50 CAD\\nEn general, el gusto de la comida es increíble y valió la pena volver.',\n",
       " 'Polarity': 5,\n",
       " 'Attraction': 'Restaurant'}"
      ]
     },
     "execution_count": 62,
     "metadata": {},
     "output_type": "execute_result"
    }
   ],
   "source": [
    "raw_dataset['train'][30226]"
   ]
  },
  {
   "cell_type": "code",
   "execution_count": 72,
   "metadata": {},
   "outputs": [],
   "source": [
    "datapd = raw_dataset[\"train\"].to_pandas()"
   ]
  },
  {
   "cell_type": "code",
   "execution_count": 73,
   "metadata": {},
   "outputs": [
    {
     "name": "stdout",
     "output_type": "stream",
     "text": [
      "Polarity values(38832):\n",
      "5    20936\n",
      "3     6363\n",
      "4     5878\n",
      "2     2920\n",
      "1     2735\n",
      "Name: Polarity, dtype: int64\n",
      "\n",
      "Atraction values(38832):\n",
      "Hotel         20058\n",
      "Restaurant    11450\n",
      "Attractive     7324\n",
      "Name: Attraction, dtype: int64\n",
      "\n",
      "Title values:\n",
      "count    38831.000000\n",
      "mean        25.978625\n",
      "std         16.636964\n",
      "min          1.000000\n",
      "25%         15.000000\n",
      "50%         22.000000\n",
      "75%         33.000000\n",
      "max        153.000000\n",
      "Name: Title, dtype: float64\n",
      "\n",
      "Opinion values:\n",
      "count    38830.000000\n",
      "mean       521.696343\n",
      "std        861.882306\n",
      "min         18.000000\n",
      "25%        175.000000\n",
      "50%        260.000000\n",
      "75%        488.000000\n",
      "max      20438.000000\n",
      "Name: Opinion, dtype: float64\n"
     ]
    }
   ],
   "source": [
    "print(f'Polarity values({datapd.Polarity.count()}):\\n{datapd.Polarity.value_counts()}\\n')\n",
    "print(f'Atraction values({datapd.Attraction.count()}):\\n{datapd.Attraction.value_counts()}\\n')\n",
    "print(f'Title values:\\n{datapd.Title.str.len().describe()}\\n')\n",
    "print(f'Opinion values:\\n{datapd.Opinion.str.len().describe()}') "
   ]
  },
  {
   "cell_type": "code",
   "execution_count": 74,
   "metadata": {},
   "outputs": [],
   "source": [
    "# filter non empty title\n",
    "datapd = datapd[datapd.Title.str.len() > 0]\n",
    "# filter non empty opinion\n",
    "datapd = datapd[datapd.Opinion.str.len() > 0]\n",
    "\n"
   ]
  },
  {
   "cell_type": "code",
   "execution_count": 75,
   "metadata": {},
   "outputs": [],
   "source": [
    "# filter by num of characters of Opinion\n",
    "datapd = datapd[datapd.Opinion.str.len() < 5000]\n",
    "# datapd.Opinion.str.len().sort_values()"
   ]
  },
  {
   "cell_type": "code",
   "execution_count": 76,
   "metadata": {},
   "outputs": [],
   "source": [
    "for i in range(5):\n",
    "    datapd.loc[datapd.Polarity == i+1, 'Polarity'] = i\n",
    "    \n",
    "datapd.loc[datapd.Attraction == \"Hotel\", 'Attraction'] = 0\n",
    "datapd.loc[datapd.Attraction == \"Restaurant\", 'Attraction'] = 1\n",
    "datapd.loc[datapd.Attraction == \"Attractive\", 'Attraction'] = 2\n"
   ]
  },
  {
   "cell_type": "code",
   "execution_count": 78,
   "metadata": {},
   "outputs": [],
   "source": [
    "from datasets import Dataset\n",
    "raw_dataset = Dataset.from_pandas(datapd)\n",
    "\n"
   ]
  },
  {
   "cell_type": "code",
   "execution_count": 83,
   "metadata": {},
   "outputs": [
    {
     "ename": "AttributeError",
     "evalue": "'Dataset' object has no attribute 'copy'",
     "output_type": "error",
     "traceback": [
      "\u001b[0;31m---------------------------------------------------------------------------\u001b[0m",
      "\u001b[0;31mAttributeError\u001b[0m                            Traceback (most recent call last)",
      "\u001b[0;32m<ipython-input-83-554062f2e23a>\u001b[0m in \u001b[0;36m<module>\u001b[0;34m\u001b[0m\n\u001b[0;32m----> 1\u001b[0;31m \u001b[0mraw_dataset5\u001b[0m \u001b[0;34m=\u001b[0m \u001b[0mraw_dataset\u001b[0m\u001b[0;34m.\u001b[0m\u001b[0mcopy\u001b[0m\u001b[0;34m\u001b[0m\u001b[0;34m\u001b[0m\u001b[0m\n\u001b[0m",
      "\u001b[0;31mAttributeError\u001b[0m: 'Dataset' object has no attribute 'copy'"
     ]
    }
   ],
   "source": [
    "raw_dataset5"
   ]
  },
  {
   "cell_type": "code",
   "execution_count": 84,
   "metadata": {},
   "outputs": [
    {
     "name": "stdout",
     "output_type": "stream",
     "text": [
      "                                       Title  \\\n",
      "0                               Pésimo lugar   \n",
      "1                  No vayas a lugar de Eddie   \n",
      "2               Mala relación calidad-precio   \n",
      "3           Minusválido? ¡No te alojes aquí!   \n",
      "4      Es una porqueria no pierdan su tiempo   \n",
      "...                                      ...   \n",
      "38827          Verdadera joya arquitectónica   \n",
      "38828                              Romántico   \n",
      "38829                     Parece un castillo   \n",
      "38830                             Imperdible   \n",
      "38831                       Muy bonita vista   \n",
      "\n",
      "                                                 Opinion  Polarity Attraction  \n",
      "0      Piensen dos veces antes de ir a este hotel, te...         0          0  \n",
      "1      Cuatro de nosotros fuimos recientemente a Eddi...         0          1  \n",
      "2      seguiré corta y simple: limpieza\\n- bad. Tengo...         0          0  \n",
      "3      Al reservar un hotel con multipropiedad Mayan ...         0          0  \n",
      "4      No pierdan su tiempo ni dinero, venimos porque...         0          0  \n",
      "...                                                  ...       ...        ...  \n",
      "38827  Es una construcción majestuosa, creo que de la...         4          2  \n",
      "38828  Muy al estilo de Romeo y Julieta es este sitio...         4          2  \n",
      "38829  Ideal para subir las escalinatas y divisar su ...         4          2  \n",
      "38830  Es imperdible, de ahí puedes ver muy bien la c...         4          2  \n",
      "38831  No te puedes ir de Guanajuato sin visitarlo......         4          2  \n",
      "\n",
      "[38551 rows x 4 columns]\n",
      "DatasetDict({\n",
      "    train: Dataset({\n",
      "        features: ['Title', 'Opinion', 'Polarity', 'Attraction', '__index_level_0__'],\n",
      "        num_rows: 30840\n",
      "    })\n",
      "    test: Dataset({\n",
      "        features: ['Title', 'Opinion', 'Polarity', 'Attraction', '__index_level_0__'],\n",
      "        num_rows: 7711\n",
      "    })\n",
      "})\n"
     ]
    }
   ],
   "source": [
    "print(datapd)\n",
    "raw_dataset1 = raw_dataset.shuffle(seed=50)\n",
    "raw_datasets = raw_dataset1.train_test_split(0.2)\n",
    "print(raw_datasets)\n",
    "# raw_datasets.save_to_disk(\"./data\")"
   ]
  },
  {
   "cell_type": "code",
   "execution_count": null,
   "metadata": {},
   "outputs": [],
   "source": [
    "from datasets import load_dataset, DatasetDict\n",
    "raw_dataset = DatasetDict.load_from_disk(\"./data\")"
   ]
  },
  {
   "cell_type": "code",
   "execution_count": null,
   "metadata": {},
   "outputs": [
    {
     "name": "stderr",
     "output_type": "stream",
     "text": [
      "Pushing split train to the Hub.\n"
     ]
    },
    {
     "data": {
      "application/vnd.jupyter.widget-view+json": {
       "model_id": "b2c957568aaf4c918e5173829784be0f",
       "version_major": 2,
       "version_minor": 0
      },
      "text/plain": [
       "Pushing dataset shards to the dataset hub:   0%|          | 0/1 [00:00<?, ?it/s]"
      ]
     },
     "metadata": {},
     "output_type": "display_data"
    },
    {
     "name": "stderr",
     "output_type": "stream",
     "text": [
      "Pushing split test to the Hub.\n",
      "The repository already exists: the `private` keyword argument will be ignored.\n"
     ]
    },
    {
     "data": {
      "application/vnd.jupyter.widget-view+json": {
       "model_id": "c638fad017bb42f4b41220b55c3eb1f5",
       "version_major": 2,
       "version_minor": 0
      },
      "text/plain": [
       "Pushing dataset shards to the dataset hub:   0%|          | 0/1 [00:00<?, ?it/s]"
      ]
     },
     "metadata": {},
     "output_type": "display_data"
    }
   ],
   "source": [
    "raw_datasets.push_to_hub(\"javilonso/mex_data_augmented\")\n"
   ]
  },
  {
   "cell_type": "code",
   "execution_count": 87,
   "metadata": {},
   "outputs": [
    {
     "data": {
      "text/plain": [
       "1"
      ]
     },
     "execution_count": 87,
     "metadata": {},
     "output_type": "execute_result"
    }
   ],
   "source": [
    "1"
   ]
  }
 ],
 "metadata": {
  "interpreter": {
   "hash": "d6a64f2c38f9968623135a8fad9c1eee06acf613206d3ab9bd941bde9bf30840"
  },
  "kernelspec": {
   "display_name": "Python 3",
   "language": "python",
   "name": "python3"
  },
  "language_info": {
   "codemirror_mode": {
    "name": "ipython",
    "version": 3
   },
   "file_extension": ".py",
   "mimetype": "text/x-python",
   "name": "python",
   "nbconvert_exporter": "python",
   "pygments_lexer": "ipython3",
   "version": "3.6.9"
  }
 },
 "nbformat": 4,
 "nbformat_minor": 4
}
