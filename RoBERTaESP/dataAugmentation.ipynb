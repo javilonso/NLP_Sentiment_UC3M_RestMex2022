{
 "cells": [
  {
   "cell_type": "code",
   "execution_count": null,
   "metadata": {},
   "outputs": [],
   "source": [
    "from datasets import load_dataset\n",
    "import numpy as np\n",
    "        \n",
    "raw_dataset = load_dataset(\"csv\", data_files=\"./../dataset/Rest_Mex_2022_Sentiment_Analysis_Track_Train.csv\", delimiter=\";\")"
   ]
  },
  {
   "cell_type": "code",
   "execution_count": null,
   "metadata": {},
   "outputs": [],
   "source": [
    "from transformers import pipeline\n",
    "\n",
    "summarizer = pipeline(\"summarization\", model=\"csebuetnlp/mT5_multilingual_XLSum\")"
   ]
  },
  {
   "cell_type": "code",
   "execution_count": null,
   "metadata": {},
   "outputs": [],
   "source": [
    "#Data augmentation\n",
    "## 1 * 4 steps\n",
    "## 2 * 3 steps\n",
    "## 3 * 2 steps\n",
    "\n",
    "steps = {\n",
    "    1: 5,\n",
    "    2: 4,\n",
    "    3: 3\n",
    "}\n",
    "\n",
    "print(raw_dataset)\n",
    "#remove filter for whole dataset\n",
    "raw_dataset = raw_dataset.filter(lambda e, i: i<3, with_indices=True)\n",
    "print(raw_dataset)\n",
    "\n",
    "def augment_data(examples):\n",
    "    index = 0\n",
    "    elements = examples[\"Opinion\"].copy()\n",
    "    for item in elements:\n",
    "        if examples[\"Polarity\"][index] == 1 or examples[\"Polarity\"][index] == 2 or examples[\"Polarity\"][index] == 3:\n",
    "            for i in range(1,steps[examples[\"Polarity\"][index]]):\n",
    "                percentage = 100 - 20 * i\n",
    "                lenght = 0\n",
    "                if len(item) > 100:\n",
    "                    lenght = 100\n",
    "                else: \n",
    "                    lenght = len(item)\n",
    "                output = summarizer(item, min_length=int(lenght * percentage / 100), max_length=100)\n",
    "                examples[\"Title\"].append(examples[\"Title\"][index])\n",
    "                examples[\"Opinion\"].append(output[0][\"summary_text\"])\n",
    "                examples[\"Polarity\"].append(examples[\"Polarity\"][index])\n",
    "                examples[\"Attraction\"].append(examples[\"Attraction\"][index])\n",
    "            index += 1\n",
    "    return examples\n",
    "\n",
    "\n",
    "raw_dataset = raw_dataset.map(augment_data, batched=True)"
   ]
  },
  {
   "cell_type": "code",
   "execution_count": null,
   "metadata": {},
   "outputs": [],
   "source": [
    "datapd = raw_dataset[\"train\"].to_pandas()"
   ]
  },
  {
   "cell_type": "code",
   "execution_count": null,
   "metadata": {},
   "outputs": [],
   "source": [
    "print(f'Polarity values({datapd.Polarity.count()}):\\n{datapd.Polarity.value_counts()}\\n')\n",
    "print(f'Atraction values({datapd.Attraction.count()}):\\n{datapd.Attraction.value_counts()}\\n')\n",
    "print(f'Title values:\\n{datapd.Title.str.len().describe()}\\n')\n",
    "print(f'Opinion values:\\n{datapd.Opinion.str.len().describe()}') "
   ]
  },
  {
   "cell_type": "code",
   "execution_count": null,
   "metadata": {},
   "outputs": [],
   "source": [
    "# filter non empty title\n",
    "datapd = datapd[datapd.Title.str.len() > 0]\n",
    "# filter non empty opinion\n",
    "datapd = datapd[datapd.Opinion.str.len() > 0]\n",
    "\n"
   ]
  },
  {
   "cell_type": "code",
   "execution_count": null,
   "metadata": {},
   "outputs": [],
   "source": [
    "# filter by num of characters of Opinion\n",
    "datapd = datapd[datapd.Opinion.str.len() < 5000]\n",
    "# datapd.Opinion.str.len().sort_values()"
   ]
  },
  {
   "cell_type": "code",
   "execution_count": null,
   "metadata": {},
   "outputs": [],
   "source": [
    "for i in range(5):\n",
    "    datapd.loc[datapd.Polarity == i+1, 'Polarity'] = i\n",
    "    \n",
    "datapd.loc[datapd.Attraction == \"Hotel\", 'Attraction'] = 0\n",
    "datapd.loc[datapd.Attraction == \"Restaurant\", 'Attraction'] = 1\n",
    "datapd.loc[datapd.Attraction == \"Attractive\", 'Attraction'] = 2\n"
   ]
  },
  {
   "cell_type": "code",
   "execution_count": null,
   "metadata": {},
   "outputs": [],
   "source": [
    "from datasets import Dataset\n",
    "raw_dataset = Dataset.from_pandas(datapd)\n",
    "\n"
   ]
  },
  {
   "cell_type": "code",
   "execution_count": null,
   "metadata": {},
   "outputs": [],
   "source": [
    "print(raw_dataset)\n",
    "raw_datasets = raw_dataset.shuffle(seed=50)\n",
    "raw_datasets = raw_datasets.train_test_split(0.2)\n",
    "print(raw_datasets)\n",
    "raw_datasets.save_to_disk(\"./data\")"
   ]
  },
  {
   "cell_type": "code",
   "execution_count": null,
   "metadata": {},
   "outputs": [],
   "source": [
    "from datasets import load_dataset, DatasetDict\n",
    "raw_dataset = DatasetDict.load_from_disk(\"./data\")"
   ]
  },
  {
   "cell_type": "code",
   "execution_count": null,
   "metadata": {},
   "outputs": [],
   "source": [
    "raw_dataset.push_to_hub(\"javilonso/mex_data\")\n"
   ]
  }
 ],
 "metadata": {
  "interpreter": {
   "hash": "d6a64f2c38f9968623135a8fad9c1eee06acf613206d3ab9bd941bde9bf30840"
  },
  "kernelspec": {
   "display_name": "Python 3.9.7 ('venv': venv)",
   "language": "python",
   "name": "python3"
  },
  "language_info": {
   "codemirror_mode": {
    "name": "ipython",
    "version": 3
   },
   "file_extension": ".py",
   "mimetype": "text/x-python",
   "name": "python",
   "nbconvert_exporter": "python",
   "pygments_lexer": "ipython3",
   "version": "3.9.7"
  },
  "orig_nbformat": 4
 },
 "nbformat": 4,
 "nbformat_minor": 2
}
