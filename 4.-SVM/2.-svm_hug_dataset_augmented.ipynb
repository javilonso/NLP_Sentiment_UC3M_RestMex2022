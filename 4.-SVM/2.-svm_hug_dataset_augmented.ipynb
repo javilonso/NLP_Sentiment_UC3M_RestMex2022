{
 "cells": [
  {
   "cell_type": "code",
   "execution_count": 1,
   "id": "a7c21e44-899c-412c-8b41-1978969a74fc",
   "metadata": {},
   "outputs": [
    {
     "name": "stdout",
     "output_type": "stream",
     "text": [
      "Defaulting to user installation because normal site-packages is not writeable\n",
      "Requirement already satisfied: gensim==3.8.1 in /home/javilonso/.local/lib/python3.6/site-packages (3.8.1)\n",
      "Requirement already satisfied: numpy>=1.11.3 in /home/javilonso/.local/lib/python3.6/site-packages (from gensim==3.8.1) (1.19.5)\n",
      "Requirement already satisfied: scipy>=0.18.1 in /home/javilonso/.local/lib/python3.6/site-packages (from gensim==3.8.1) (1.5.4)\n",
      "Requirement already satisfied: smart-open>=1.8.1 in /home/javilonso/.local/lib/python3.6/site-packages (from gensim==3.8.1) (5.2.1)\n",
      "Requirement already satisfied: six>=1.5.0 in /home/javilonso/.local/lib/python3.6/site-packages (from gensim==3.8.1) (1.15.0)\n",
      "\u001b[33mWARNING: You are using pip version 21.2.4; however, version 21.3.1 is available.\n",
      "You should consider upgrading via the '/usr/bin/python3 -m pip install --upgrade pip' command.\u001b[0m\n"
     ]
    }
   ],
   "source": [
    "!pip install gensim==3.8.1\n",
    "from gensim.models import KeyedVectors\n",
    "\n",
    "path_model = \"embeddings-l-model.vec\"\n",
    "# Load vectors directly from the file\n",
    "modelWV = KeyedVectors.load_word2vec_format(path_model, limit=300000)\n",
    "DIMENSION=300"
   ]
  },
  {
   "cell_type": "raw",
   "id": "1cdf1d09-21f0-4476-996d-61f8282aef5f",
   "metadata": {},
   "source": [
    "-------- DATA --------"
   ]
  },
  {
   "cell_type": "code",
   "execution_count": 2,
   "id": "fe542bb2-1ad9-4714-900b-029f37b679f9",
   "metadata": {},
   "outputs": [
    {
     "data": {
      "application/vnd.jupyter.widget-view+json": {
       "model_id": "db0ebd2eb1e44682b75ec4692f61a77c",
       "version_major": 2,
       "version_minor": 0
      },
      "text/plain": [
       "Downloading:   0%|          | 0.00/961 [00:00<?, ?B/s]"
      ]
     },
     "metadata": {},
     "output_type": "display_data"
    },
    {
     "name": "stderr",
     "output_type": "stream",
     "text": [
      "Using custom data configuration javilonso--mex_data_augmented-869fe1499d7b863d\n"
     ]
    },
    {
     "name": "stdout",
     "output_type": "stream",
     "text": [
      "Downloading and preparing dataset None/None (download: 11.69 MiB, generated: 19.83 MiB, post-processed: Unknown size, total: 31.52 MiB) to /home/javilonso/.cache/huggingface/datasets/parquet/javilonso--mex_data_augmented-869fe1499d7b863d/0.0.0/0b6d5799bb726b24ad7fc7be720c170d8e497f575d02d47537de9a5bac074901...\n"
     ]
    },
    {
     "data": {
      "application/vnd.jupyter.widget-view+json": {
       "model_id": "3326ac02515546d19a6d1afc514caa28",
       "version_major": 2,
       "version_minor": 0
      },
      "text/plain": [
       "Downloading data files:   0%|          | 0/2 [00:00<?, ?it/s]"
      ]
     },
     "metadata": {},
     "output_type": "display_data"
    },
    {
     "data": {
      "application/vnd.jupyter.widget-view+json": {
       "model_id": "8964d6b2b3b044f8a9294634d4709d99",
       "version_major": 2,
       "version_minor": 0
      },
      "text/plain": [
       "Downloading data:   0%|          | 0.00/9.79M [00:00<?, ?B/s]"
      ]
     },
     "metadata": {},
     "output_type": "display_data"
    },
    {
     "data": {
      "application/vnd.jupyter.widget-view+json": {
       "model_id": "4cb21e8430e94d168e1c69a729d64f5b",
       "version_major": 2,
       "version_minor": 0
      },
      "text/plain": [
       "Downloading data:   0%|          | 0.00/2.46M [00:00<?, ?B/s]"
      ]
     },
     "metadata": {},
     "output_type": "display_data"
    },
    {
     "data": {
      "application/vnd.jupyter.widget-view+json": {
       "model_id": "8f4079fc20694ed6976129a25f59567e",
       "version_major": 2,
       "version_minor": 0
      },
      "text/plain": [
       "Extracting data files:   0%|          | 0/2 [00:00<?, ?it/s]"
      ]
     },
     "metadata": {},
     "output_type": "display_data"
    },
    {
     "name": "stdout",
     "output_type": "stream",
     "text": [
      "Dataset parquet downloaded and prepared to /home/javilonso/.cache/huggingface/datasets/parquet/javilonso--mex_data_augmented-869fe1499d7b863d/0.0.0/0b6d5799bb726b24ad7fc7be720c170d8e497f575d02d47537de9a5bac074901. Subsequent calls will reuse this data.\n"
     ]
    },
    {
     "data": {
      "application/vnd.jupyter.widget-view+json": {
       "model_id": "af7ed35b7d6d4e9db5b1b28c0edd9f19",
       "version_major": 2,
       "version_minor": 0
      },
      "text/plain": [
       "  0%|          | 0/2 [00:00<?, ?it/s]"
      ]
     },
     "metadata": {},
     "output_type": "display_data"
    }
   ],
   "source": [
    "from datasets import load_dataset, DatasetDict\n",
    "\n",
    "raw_dataset = load_dataset(\"javilonso/mex_data_augmented\", use_auth_token=True)"
   ]
  },
  {
   "cell_type": "code",
   "execution_count": 3,
   "id": "19d498ea-21b1-429a-a6ee-4c4c8c60370c",
   "metadata": {},
   "outputs": [],
   "source": [
    "# Extract data\n",
    "X_train = raw_dataset['train']['Opinion']\n",
    "y_train_attraction = raw_dataset['train']['Attraction']\n",
    "y_train_polarity = raw_dataset['train']['Polarity']\n",
    "\n",
    "X_test = raw_dataset['test']['Opinion']\n",
    "y_test_attraction = raw_dataset['test']['Attraction']\n",
    "y_test_polarity = raw_dataset['test']['Polarity']\n"
   ]
  },
  {
   "cell_type": "code",
   "execution_count": 4,
   "id": "84e94430-60fe-49e9-8602-4322e27ecfcb",
   "metadata": {},
   "outputs": [],
   "source": [
    "import numpy as np\n",
    "\n",
    "def getDocVec(text):\n",
    "    \"\"\"gets a text and returns a vector for this text\"\"\"\n",
    "\n",
    "    tokens=text.split()\n",
    "    data=[]\n",
    "    n=0\n",
    "    for token in tokens:\n",
    "        token=token.lower()\n",
    "        if token in modelWV.vocab:\n",
    "            data.append(modelWV[token])\n",
    "            n += 1\n",
    "            \n",
    "    if len(data)>0:     \n",
    "        #vectors = np.array(data)\n",
    "        res = [sum(i)/n for i in zip(*data)]\n",
    "    else:\n",
    "        res =[0]*DIMENSION\n",
    "\n",
    "    #return np.average(vectors, axis=0)\n",
    "    return res\n",
    "\n",
    "# text=\"Esto es un ejemplo de texto\"\n",
    "# print(len(getDocVec(text)))"
   ]
  },
  {
   "cell_type": "code",
   "execution_count": 5,
   "id": "bbf3eb12-eb02-4527-bcaa-9d79b6957dc9",
   "metadata": {},
   "outputs": [
    {
     "name": "stdout",
     "output_type": "stream",
     "text": [
      "text vectors for training were created\n"
     ]
    }
   ],
   "source": [
    "X_vectors_train = []\n",
    "for text in X_train:\n",
    "  docVector = getDocVec(text)\n",
    "  X_vectors_train.append(docVector)\n",
    "  \n",
    "print('text vectors for training were created' )"
   ]
  },
  {
   "cell_type": "code",
   "execution_count": 6,
   "id": "9dbd03f9-270e-422a-b1bc-585a83e88357",
   "metadata": {},
   "outputs": [
    {
     "name": "stdout",
     "output_type": "stream",
     "text": [
      "text vectors for test were created\n"
     ]
    }
   ],
   "source": [
    "X_vectors_test = []\n",
    "for text in X_test:\n",
    "  docVector=getDocVec(text)\n",
    "  X_vectors_test.append(docVector)\n",
    "  \n",
    "print('text vectors for test were created' )"
   ]
  },
  {
   "cell_type": "code",
   "execution_count": 7,
   "id": "d80f93d8-55d8-4954-a675-4b285dd568a1",
   "metadata": {},
   "outputs": [
    {
     "name": "stdout",
     "output_type": "stream",
     "text": [
      "30840 30840\n",
      "300\n",
      "7711 7711\n"
     ]
    }
   ],
   "source": [
    "print(len(X_vectors_train), len(y_train_attraction))\n",
    "print(len(X_vectors_train[0]))\n",
    "print(len(X_vectors_test), len(y_test_attraction))\n"
   ]
  },
  {
   "cell_type": "raw",
   "id": "7377c9c9-a133-47a2-9749-544b47fe4f01",
   "metadata": {},
   "source": [
    "-------- ATTRACTION MODEL --------"
   ]
  },
  {
   "cell_type": "code",
   "execution_count": 8,
   "id": "ab3761bf-92c3-4d8e-857b-59356736b172",
   "metadata": {},
   "outputs": [
    {
     "name": "stdout",
     "output_type": "stream",
     "text": [
      "model was trained!!\n"
     ]
    }
   ],
   "source": [
    "from sklearn import svm\n",
    "\n",
    "modelSVM=svm.SVC()\n",
    "modelSVM.fit(X_vectors_train, y_train_attraction)\n",
    "print('model was trained!!')"
   ]
  },
  {
   "cell_type": "code",
   "execution_count": 9,
   "id": "09c43d16-0709-4f59-939f-4e86c96e7a65",
   "metadata": {},
   "outputs": [
    {
     "name": "stdout",
     "output_type": "stream",
     "text": [
      "              precision    recall  f1-score   support\n",
      "\n",
      "           0       0.94      0.96      0.95      3906\n",
      "           1       0.92      0.90      0.91      2337\n",
      "           2       0.95      0.94      0.95      1468\n",
      "\n",
      "    accuracy                           0.94      7711\n",
      "   macro avg       0.94      0.94      0.94      7711\n",
      "weighted avg       0.94      0.94      0.94      7711\n",
      "\n"
     ]
    }
   ],
   "source": [
    "# TEST Predictions\n",
    "from sklearn.metrics import classification_report\n",
    "\n",
    "y_pred=modelSVM.predict(X_vectors_test)\n",
    "print(classification_report(y_test_attraction, y_pred))\n"
   ]
  },
  {
   "cell_type": "raw",
   "id": "dd17492e-dc1d-41cd-97cd-0f0b705220fb",
   "metadata": {},
   "source": [
    "-------- POLARITY MODEL --------"
   ]
  },
  {
   "cell_type": "code",
   "execution_count": 10,
   "id": "a45c4444-f50a-4cc9-a146-712f68e4511a",
   "metadata": {},
   "outputs": [
    {
     "name": "stdout",
     "output_type": "stream",
     "text": [
      "model was trained!!\n"
     ]
    }
   ],
   "source": [
    "from sklearn import svm\n",
    "\n",
    "modelSVM=svm.SVC()\n",
    "modelSVM.fit(X_vectors_train,y_train_polarity)\n",
    "print('model was trained!!')"
   ]
  },
  {
   "cell_type": "code",
   "execution_count": 11,
   "id": "6b0b78a3-0b72-4a23-b48d-927b8539415e",
   "metadata": {},
   "outputs": [
    {
     "name": "stdout",
     "output_type": "stream",
     "text": [
      "              precision    recall  f1-score   support\n",
      "\n",
      "           0       0.56      0.33      0.42       481\n",
      "           1       0.64      0.01      0.02       610\n",
      "           2       0.52      0.70      0.60      1290\n",
      "           3       0.00      0.00      0.00      1113\n",
      "           4       0.73      0.99      0.84      4217\n",
      "\n",
      "    accuracy                           0.68      7711\n",
      "   macro avg       0.49      0.40      0.37      7711\n",
      "weighted avg       0.57      0.68      0.59      7711\n",
      "\n"
     ]
    },
    {
     "name": "stderr",
     "output_type": "stream",
     "text": [
      "/home/javilonso/.local/lib/python3.6/site-packages/sklearn/metrics/_classification.py:1248: UndefinedMetricWarning: Precision and F-score are ill-defined and being set to 0.0 in labels with no predicted samples. Use `zero_division` parameter to control this behavior.\n",
      "  _warn_prf(average, modifier, msg_start, len(result))\n",
      "/home/javilonso/.local/lib/python3.6/site-packages/sklearn/metrics/_classification.py:1248: UndefinedMetricWarning: Precision and F-score are ill-defined and being set to 0.0 in labels with no predicted samples. Use `zero_division` parameter to control this behavior.\n",
      "  _warn_prf(average, modifier, msg_start, len(result))\n",
      "/home/javilonso/.local/lib/python3.6/site-packages/sklearn/metrics/_classification.py:1248: UndefinedMetricWarning: Precision and F-score are ill-defined and being set to 0.0 in labels with no predicted samples. Use `zero_division` parameter to control this behavior.\n",
      "  _warn_prf(average, modifier, msg_start, len(result))\n"
     ]
    }
   ],
   "source": [
    "# TEST Predictions\n",
    "from sklearn.metrics import classification_report\n",
    "\n",
    "y_pred=modelSVM.predict(X_vectors_test)\n",
    "print(classification_report(y_test_polarity, y_pred))\n"
   ]
  },
  {
   "cell_type": "code",
   "execution_count": null,
   "id": "0744df20-bfc7-4fc2-afea-ad8f5561792f",
   "metadata": {},
   "outputs": [],
   "source": []
  }
 ],
 "metadata": {
  "kernelspec": {
   "display_name": "Python 3",
   "language": "python",
   "name": "python3"
  },
  "language_info": {
   "codemirror_mode": {
    "name": "ipython",
    "version": 3
   },
   "file_extension": ".py",
   "mimetype": "text/x-python",
   "name": "python",
   "nbconvert_exporter": "python",
   "pygments_lexer": "ipython3",
   "version": "3.6.9"
  }
 },
 "nbformat": 4,
 "nbformat_minor": 5
}
