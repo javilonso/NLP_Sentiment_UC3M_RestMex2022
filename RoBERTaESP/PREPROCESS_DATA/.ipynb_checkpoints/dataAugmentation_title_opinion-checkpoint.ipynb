{
 "cells": [
  {
   "cell_type": "code",
   "execution_count": 11,
   "metadata": {},
   "outputs": [
    {
     "name": "stderr",
     "output_type": "stream",
     "text": [
      "Using custom data configuration default-13c2fcae2abc0c4d\n",
      "Reusing dataset csv (/home/javilonso/.cache/huggingface/datasets/csv/default-13c2fcae2abc0c4d/0.0.0/433e0ccc46f9880962cc2b12065189766fbb2bee57a221866138fb9203c83519)\n"
     ]
    },
    {
     "data": {
      "application/vnd.jupyter.widget-view+json": {
       "model_id": "f64ce35c7c244bcea776562749ff6ffd",
       "version_major": 2,
       "version_minor": 0
      },
      "text/plain": [
       "  0%|          | 0/1 [00:00<?, ?it/s]"
      ]
     },
     "metadata": {},
     "output_type": "display_data"
    }
   ],
   "source": [
    "from datasets import load_dataset\n",
    "import numpy as np\n",
    "\n",
    "raw_dataset = load_dataset(\"csv\", data_files=\"./../dataset/Rest_Mex_2022_Sentiment_Analysis_Track_Train.csv\", delimiter=\";\")"
   ]
  },
  {
   "cell_type": "code",
   "execution_count": 18,
   "metadata": {},
   "outputs": [],
   "source": [
    "datapd = raw_dataset['train'].to_pandas()\n",
    "datapd[\"Title_Opinion\"] = datapd[\"Title\"] + \" \" + datapd[\"Opinion\"]\n"
   ]
  },
  {
   "cell_type": "code",
   "execution_count": 23,
   "metadata": {},
   "outputs": [],
   "source": [
    "from datasets import Dataset\n",
    "raw_dataset = Dataset.from_pandas(datapd)\n",
    "raw_datasets = raw_dataset.shuffle(seed=50)"
   ]
  },
  {
   "cell_type": "code",
   "execution_count": 24,
   "metadata": {},
   "outputs": [
    {
     "data": {
      "text/plain": [
       "Dataset({\n",
       "    features: ['Title', 'Opinion', 'Polarity', 'Attraction', 'Title_Opinion'],\n",
       "    num_rows: 30212\n",
       "})"
      ]
     },
     "execution_count": 24,
     "metadata": {},
     "output_type": "execute_result"
    }
   ],
   "source": [
    "raw_dataset"
   ]
  },
  {
   "cell_type": "code",
   "execution_count": 25,
   "metadata": {},
   "outputs": [],
   "source": [
    "from transformers import pipeline\n",
    "\n",
    "summarizer = pipeline(\"summarization\", model=\"csebuetnlp/mT5_multilingual_XLSum\")"
   ]
  },
  {
   "cell_type": "code",
   "execution_count": 27,
   "metadata": {},
   "outputs": [
    {
     "name": "stdout",
     "output_type": "stream",
     "text": [
      "Dataset({\n",
      "    features: ['Title', 'Opinion', 'Polarity', 'Attraction', 'Title_Opinion'],\n",
      "    num_rows: 30212\n",
      "})\n"
     ]
    }
   ],
   "source": [
    "#Data augmentation\n",
    "## 1 * 4 steps\n",
    "## 2 * 3 steps\n",
    "## 3 * 2 steps\n",
    "\n",
    "steps = {\n",
    "    1: 5,\n",
    "    2: 4,\n",
    "    3: 3\n",
    "}\n",
    "\n",
    "print(raw_dataset)\n",
    "#remove filter for whole dataset\n",
    "# raw_dataset = raw_dataset.filter(lambda e, i: i<3, with_indices=True)\n",
    "# print(raw_dataset)\n",
    "\n",
    "def augment_data(examples):\n",
    "    index = 0\n",
    "    elements = examples[\"Title_Opinion\"].copy()\n",
    "    for item in elements:\n",
    "        # print(index)\n",
    "        if examples[\"Polarity\"][index] == 1 or examples[\"Polarity\"][index] == 2 or examples[\"Polarity\"][index] == 3:\n",
    "            for i in range(1,steps[examples[\"Polarity\"][index]]):\n",
    "                percentage = 100 - 20 * i\n",
    "                lenght = 0\n",
    "                print(len(item.split()))\n",
    "                if len(item.split()) > 100:\n",
    "                    lenght = 100\n",
    "                else: \n",
    "                    lenght = len(item.split())\n",
    "                output = summarizer(item, min_length=int(lenght * percentage / 100), max_length=lenght)\n",
    "                examples[\"Title\"].append(examples[\"Title\"][index])\n",
    "                examples[\"Title_Opinion\"].append(output[0][\"summary_text\"])\n",
    "                examples[\"Opinion\"].append(examples[\"Opinion\"][index])\n",
    "                examples[\"Polarity\"].append(examples[\"Polarity\"][index])\n",
    "                examples[\"Attraction\"].append(examples[\"Attraction\"][index])\n",
    "            index += 1\n",
    "            print(index)\n",
    "    return examples\n"
   ]
  },
  {
   "cell_type": "code",
   "execution_count": null,
   "metadata": {},
   "outputs": [
    {
     "data": {
      "application/vnd.jupyter.widget-view+json": {
       "model_id": "2c73290f874c4d5c8bb2dea4e3158a48",
       "version_major": 2,
       "version_minor": 0
      },
      "text/plain": [
       "  0%|          | 0/31 [00:00<?, ?ba/s]"
      ]
     },
     "metadata": {},
     "output_type": "display_data"
    },
    {
     "name": "stdout",
     "output_type": "stream",
     "text": [
      "129\n",
      "129\n",
      "129\n",
      "129\n",
      "1\n",
      "123\n",
      "123\n",
      "123\n",
      "123\n",
      "2\n",
      "61\n",
      "61\n",
      "61\n",
      "61\n",
      "3\n",
      "244\n",
      "244\n",
      "244\n",
      "244\n",
      "4\n",
      "114\n",
      "114\n",
      "114\n",
      "114\n",
      "5\n",
      "155\n",
      "155\n",
      "155\n",
      "155\n",
      "6\n",
      "345\n",
      "345\n",
      "345\n",
      "345\n",
      "7\n",
      "67\n",
      "67\n",
      "67\n",
      "67\n",
      "8\n",
      "285\n",
      "285\n",
      "285\n",
      "285\n",
      "9\n",
      "121\n",
      "121\n",
      "121\n",
      "121\n",
      "10\n",
      "38\n",
      "38\n",
      "38\n",
      "38\n",
      "11\n",
      "124\n",
      "124\n",
      "124\n",
      "124\n",
      "12\n",
      "240\n",
      "240\n",
      "240\n",
      "240\n",
      "13\n",
      "312\n",
      "312\n",
      "312\n",
      "312\n",
      "14\n",
      "53\n",
      "53\n",
      "53\n",
      "53\n",
      "15\n",
      "204\n",
      "204\n",
      "204\n",
      "204\n",
      "16\n",
      "185\n",
      "185\n",
      "185\n",
      "185\n",
      "17\n",
      "55\n",
      "55\n",
      "55\n",
      "55\n",
      "18\n",
      "324\n",
      "324\n",
      "324\n",
      "324\n",
      "19\n",
      "124\n",
      "124\n",
      "124\n",
      "124\n",
      "20\n",
      "253\n",
      "253\n",
      "253\n",
      "253\n",
      "21\n",
      "161\n",
      "161\n",
      "161\n",
      "161\n",
      "22\n",
      "102\n",
      "102\n",
      "102\n",
      "102\n",
      "23\n",
      "102\n",
      "102\n",
      "102\n",
      "102\n",
      "24\n",
      "169\n",
      "169\n",
      "169\n",
      "169\n",
      "25\n",
      "168\n",
      "168\n",
      "168\n",
      "168\n",
      "26\n",
      "36\n",
      "36\n",
      "36\n",
      "36\n",
      "27\n",
      "154\n",
      "154\n",
      "154\n",
      "154\n",
      "28\n",
      "232\n",
      "232\n",
      "232\n",
      "232\n",
      "29\n",
      "76\n",
      "76\n",
      "76\n",
      "76\n",
      "30\n",
      "414\n",
      "414\n",
      "414\n",
      "414\n",
      "31\n",
      "66\n",
      "66\n",
      "66\n",
      "66\n",
      "32\n",
      "150\n",
      "150\n",
      "150\n",
      "150\n",
      "33\n",
      "93\n",
      "93\n",
      "93\n",
      "93\n",
      "34\n",
      "372\n",
      "372\n",
      "372\n",
      "372\n",
      "35\n",
      "223\n",
      "223\n",
      "223\n",
      "223\n",
      "36\n",
      "357\n",
      "357\n",
      "357\n",
      "357\n",
      "37\n",
      "42\n",
      "42\n",
      "42\n",
      "42\n",
      "38\n",
      "58\n",
      "58\n",
      "58\n",
      "58\n",
      "39\n",
      "58\n",
      "58\n",
      "58\n",
      "58\n",
      "40\n",
      "92\n",
      "92\n",
      "92\n",
      "92\n",
      "41\n",
      "175\n",
      "175\n",
      "175\n",
      "175\n",
      "42\n",
      "66\n",
      "66\n",
      "66\n",
      "66\n",
      "43\n",
      "36\n",
      "36\n"
     ]
    }
   ],
   "source": [
    "raw_dataset = raw_dataset.map(augment_data, batched=True)"
   ]
  },
  {
   "cell_type": "code",
   "execution_count": null,
   "metadata": {},
   "outputs": [],
   "source": [
    "1"
   ]
  },
  {
   "cell_type": "code",
   "execution_count": null,
   "metadata": {},
   "outputs": [],
   "source": [
    "raw_dataset['train'][30226]"
   ]
  },
  {
   "cell_type": "code",
   "execution_count": 72,
   "metadata": {},
   "outputs": [],
   "source": [
    "datapd = raw_dataset[\"train\"].to_pandas()"
   ]
  },
  {
   "cell_type": "code",
   "execution_count": null,
   "metadata": {},
   "outputs": [],
   "source": [
    "print(f'Polarity values({datapd.Polarity.count()}):\\n{datapd.Polarity.value_counts()}\\n')\n",
    "print(f'Atraction values({datapd.Attraction.count()}):\\n{datapd.Attraction.value_counts()}\\n')\n",
    "print(f'Title values:\\n{datapd.Title.str.len().describe()}\\n')\n",
    "print(f'Opinion values:\\n{datapd.Opinion.str.len().describe()}') "
   ]
  },
  {
   "cell_type": "code",
   "execution_count": 74,
   "metadata": {},
   "outputs": [],
   "source": [
    "# filter non empty title\n",
    "datapd = datapd[datapd.Title.str.len() > 0]\n",
    "# filter non empty opinion\n",
    "datapd = datapd[datapd.Opinion.str.len() > 0]\n",
    "\n"
   ]
  },
  {
   "cell_type": "code",
   "execution_count": 75,
   "metadata": {},
   "outputs": [],
   "source": [
    "# filter by num of characters of Opinion\n",
    "datapd = datapd[datapd.Opinion.str.len() < 5000]\n",
    "# datapd.Opinion.str.len().sort_values()"
   ]
  },
  {
   "cell_type": "code",
   "execution_count": 76,
   "metadata": {},
   "outputs": [],
   "source": [
    "for i in range(5):\n",
    "    datapd.loc[datapd.Polarity == i+1, 'Polarity'] = i\n",
    "    \n",
    "datapd.loc[datapd.Attraction == \"Hotel\", 'Attraction'] = 0\n",
    "datapd.loc[datapd.Attraction == \"Restaurant\", 'Attraction'] = 1\n",
    "datapd.loc[datapd.Attraction == \"Attractive\", 'Attraction'] = 2\n"
   ]
  },
  {
   "cell_type": "code",
   "execution_count": 78,
   "metadata": {},
   "outputs": [],
   "source": [
    "from datasets import Dataset\n",
    "raw_dataset = Dataset.from_pandas(datapd)\n",
    "\n"
   ]
  },
  {
   "cell_type": "code",
   "execution_count": null,
   "metadata": {},
   "outputs": [],
   "source": [
    "raw_dataset5"
   ]
  },
  {
   "cell_type": "code",
   "execution_count": 84,
   "metadata": {},
   "outputs": [
    {
     "name": "stdout",
     "output_type": "stream",
     "text": [
      "                                       Title  \\\n",
      "0                               Pésimo lugar   \n",
      "1                  No vayas a lugar de Eddie   \n",
      "2               Mala relación calidad-precio   \n",
      "3           Minusválido? ¡No te alojes aquí!   \n",
      "4      Es una porqueria no pierdan su tiempo   \n",
      "...                                      ...   \n",
      "38827          Verdadera joya arquitectónica   \n",
      "38828                              Romántico   \n",
      "38829                     Parece un castillo   \n",
      "38830                             Imperdible   \n",
      "38831                       Muy bonita vista   \n",
      "\n",
      "                                                 Opinion  Polarity Attraction  \n",
      "0      Piensen dos veces antes de ir a este hotel, te...         0          0  \n",
      "1      Cuatro de nosotros fuimos recientemente a Eddi...         0          1  \n",
      "2      seguiré corta y simple: limpieza\\n- bad. Tengo...         0          0  \n",
      "3      Al reservar un hotel con multipropiedad Mayan ...         0          0  \n",
      "4      No pierdan su tiempo ni dinero, venimos porque...         0          0  \n",
      "...                                                  ...       ...        ...  \n",
      "38827  Es una construcción majestuosa, creo que de la...         4          2  \n",
      "38828  Muy al estilo de Romeo y Julieta es este sitio...         4          2  \n",
      "38829  Ideal para subir las escalinatas y divisar su ...         4          2  \n",
      "38830  Es imperdible, de ahí puedes ver muy bien la c...         4          2  \n",
      "38831  No te puedes ir de Guanajuato sin visitarlo......         4          2  \n",
      "\n",
      "[38551 rows x 4 columns]\n",
      "DatasetDict({\n",
      "    train: Dataset({\n",
      "        features: ['Title', 'Opinion', 'Polarity', 'Attraction', '__index_level_0__'],\n",
      "        num_rows: 30840\n",
      "    })\n",
      "    test: Dataset({\n",
      "        features: ['Title', 'Opinion', 'Polarity', 'Attraction', '__index_level_0__'],\n",
      "        num_rows: 7711\n",
      "    })\n",
      "})\n"
     ]
    }
   ],
   "source": [
    "print(datapd)\n",
    "raw_dataset1 = raw_dataset.shuffle(seed=50)\n",
    "raw_datasets = raw_dataset1.train_test_split(0.2)\n",
    "print(raw_datasets)\n",
    "# raw_datasets.save_to_disk(\"./data\")"
   ]
  },
  {
   "cell_type": "code",
   "execution_count": null,
   "metadata": {},
   "outputs": [],
   "source": [
    "from datasets import load_dataset, DatasetDict\n",
    "raw_dataset = DatasetDict.load_from_disk(\"./data\")"
   ]
  },
  {
   "cell_type": "code",
   "execution_count": null,
   "metadata": {},
   "outputs": [
    {
     "name": "stderr",
     "output_type": "stream",
     "text": [
      "Pushing split train to the Hub.\n"
     ]
    },
    {
     "data": {
      "application/vnd.jupyter.widget-view+json": {
       "model_id": "b2c957568aaf4c918e5173829784be0f",
       "version_major": 2,
       "version_minor": 0
      },
      "text/plain": [
       "Pushing dataset shards to the dataset hub:   0%|          | 0/1 [00:00<?, ?it/s]"
      ]
     },
     "metadata": {},
     "output_type": "display_data"
    },
    {
     "name": "stderr",
     "output_type": "stream",
     "text": [
      "Pushing split test to the Hub.\n",
      "The repository already exists: the `private` keyword argument will be ignored.\n"
     ]
    },
    {
     "data": {
      "application/vnd.jupyter.widget-view+json": {
       "model_id": "c638fad017bb42f4b41220b55c3eb1f5",
       "version_major": 2,
       "version_minor": 0
      },
      "text/plain": [
       "Pushing dataset shards to the dataset hub:   0%|          | 0/1 [00:00<?, ?it/s]"
      ]
     },
     "metadata": {},
     "output_type": "display_data"
    }
   ],
   "source": [
    "raw_datasets.push_to_hub(\"javilonso/mex_data_title_with_opinion_augmented\")\n"
   ]
  },
  {
   "cell_type": "code",
   "execution_count": 87,
   "metadata": {},
   "outputs": [
    {
     "data": {
      "text/plain": [
       "1"
      ]
     },
     "execution_count": 87,
     "metadata": {},
     "output_type": "execute_result"
    }
   ],
   "source": [
    "1"
   ]
  }
 ],
 "metadata": {
  "interpreter": {
   "hash": "d6a64f2c38f9968623135a8fad9c1eee06acf613206d3ab9bd941bde9bf30840"
  },
  "kernelspec": {
   "display_name": "Python 3",
   "language": "python",
   "name": "python3"
  },
  "language_info": {
   "codemirror_mode": {
    "name": "ipython",
    "version": 3
   },
   "file_extension": ".py",
   "mimetype": "text/x-python",
   "name": "python",
   "nbconvert_exporter": "python",
   "pygments_lexer": "ipython3",
   "version": "3.6.9"
  }
 },
 "nbformat": 4,
 "nbformat_minor": 4
}
