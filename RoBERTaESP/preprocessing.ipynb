{
 "cells": [
  {
   "cell_type": "code",
   "execution_count": 19,
   "metadata": {},
   "outputs": [
    {
     "name": "stderr",
     "output_type": "stream",
     "text": [
      "Using custom data configuration default-13c2fcae2abc0c4d\n",
      "Reusing dataset csv (/home/javilonso/.cache/huggingface/datasets/csv/default-13c2fcae2abc0c4d/0.0.0/433e0ccc46f9880962cc2b12065189766fbb2bee57a221866138fb9203c83519)\n"
     ]
    },
    {
     "data": {
      "application/vnd.jupyter.widget-view+json": {
       "model_id": "ed342cfeee2642248470723554f06a43",
       "version_major": 2,
       "version_minor": 0
      },
      "text/plain": [
       "  0%|          | 0/1 [00:00<?, ?it/s]"
      ]
     },
     "metadata": {},
     "output_type": "display_data"
    }
   ],
   "source": [
    "from datasets import load_dataset\n",
    "import numpy as np\n",
    "        \n",
    "raw_dataset = load_dataset(\"csv\", data_files=\"./../dataset/Rest_Mex_2022_Sentiment_Analysis_Track_Train.csv\", delimiter=\";\")"
   ]
  },
  {
   "cell_type": "code",
   "execution_count": 20,
   "metadata": {},
   "outputs": [],
   "source": [
    "datapd = raw_dataset[\"train\"].to_pandas()"
   ]
  },
  {
   "cell_type": "code",
   "execution_count": 21,
   "metadata": {},
   "outputs": [
    {
     "name": "stdout",
     "output_type": "stream",
     "text": [
      "Polarity values(30212):\n",
      "5    20936\n",
      "4     5878\n",
      "3     2121\n",
      "2      730\n",
      "1      547\n",
      "Name: Polarity, dtype: int64\n",
      "\n",
      "Atraction values(30212):\n",
      "Hotel         16565\n",
      "Restaurant     8450\n",
      "Attractive     5197\n",
      "Name: Attraction, dtype: int64\n",
      "\n",
      "Title values:\n",
      "count    30211.000000\n",
      "mean        25.579987\n",
      "std         16.099598\n",
      "min          1.000000\n",
      "25%         15.000000\n",
      "50%         22.000000\n",
      "75%         32.000000\n",
      "max        153.000000\n",
      "Name: Title, dtype: float64\n",
      "\n",
      "Opinion values:\n",
      "count    30210.000000\n",
      "mean       625.505859\n",
      "std        951.186641\n",
      "min         25.000000\n",
      "25%        213.000000\n",
      "50%        309.000000\n",
      "75%        615.000000\n",
      "max      20438.000000\n",
      "Name: Opinion, dtype: float64\n"
     ]
    }
   ],
   "source": [
    "print(f'Polarity values({datapd.Polarity.count()}):\\n{datapd.Polarity.value_counts()}\\n')\n",
    "print(f'Atraction values({datapd.Attraction.count()}):\\n{datapd.Attraction.value_counts()}\\n')\n",
    "print(f'Title values:\\n{datapd.Title.str.len().describe()}\\n')\n",
    "print(f'Opinion values:\\n{datapd.Opinion.str.len().describe()}') "
   ]
  },
  {
   "cell_type": "code",
   "execution_count": 22,
   "metadata": {},
   "outputs": [],
   "source": [
    "# filter non empty title\n",
    "datapd = datapd[datapd.Title.str.len() > 0]\n",
    "# filter non empty opinion\n",
    "datapd = datapd[datapd.Opinion.str.len() > 0]\n",
    "\n"
   ]
  },
  {
   "cell_type": "code",
   "execution_count": 23,
   "metadata": {},
   "outputs": [],
   "source": [
    "# filter by num of characters of Opinion\n",
    "datapd = datapd[datapd.Opinion.str.len() < 1000]\n",
    "# datapd.Opinion.str.len().sort_values()"
   ]
  },
  {
   "cell_type": "code",
   "execution_count": 24,
   "metadata": {},
   "outputs": [],
   "source": [
    "for i in range(5):\n",
    "    datapd.loc[datapd.Polarity == i+1, 'Polarity'] = i\n"
   ]
  },
  {
   "cell_type": "code",
   "execution_count": 25,
   "metadata": {},
   "outputs": [
    {
     "data": {
      "text/html": [
       "<div>\n",
       "<style scoped>\n",
       "    .dataframe tbody tr th:only-of-type {\n",
       "        vertical-align: middle;\n",
       "    }\n",
       "\n",
       "    .dataframe tbody tr th {\n",
       "        vertical-align: top;\n",
       "    }\n",
       "\n",
       "    .dataframe thead th {\n",
       "        text-align: right;\n",
       "    }\n",
       "</style>\n",
       "<table border=\"1\" class=\"dataframe\">\n",
       "  <thead>\n",
       "    <tr style=\"text-align: right;\">\n",
       "      <th></th>\n",
       "      <th>Title</th>\n",
       "      <th>Opinion</th>\n",
       "      <th>Polarity</th>\n",
       "      <th>Attraction</th>\n",
       "    </tr>\n",
       "  </thead>\n",
       "  <tbody>\n",
       "    <tr>\n",
       "      <th>0</th>\n",
       "      <td>Pésimo lugar</td>\n",
       "      <td>Piensen dos veces antes de ir a este hotel, te...</td>\n",
       "      <td>0</td>\n",
       "      <td>Hotel</td>\n",
       "    </tr>\n",
       "    <tr>\n",
       "      <th>1</th>\n",
       "      <td>No vayas a lugar de Eddie</td>\n",
       "      <td>Cuatro de nosotros fuimos recientemente a Eddi...</td>\n",
       "      <td>0</td>\n",
       "      <td>Restaurant</td>\n",
       "    </tr>\n",
       "    <tr>\n",
       "      <th>2</th>\n",
       "      <td>Mala relación calidad-precio</td>\n",
       "      <td>seguiré corta y simple: limpieza\\n- bad. Tengo...</td>\n",
       "      <td>0</td>\n",
       "      <td>Hotel</td>\n",
       "    </tr>\n",
       "    <tr>\n",
       "      <th>4</th>\n",
       "      <td>Es una porqueria no pierdan su tiempo</td>\n",
       "      <td>No pierdan su tiempo ni dinero, venimos porque...</td>\n",
       "      <td>0</td>\n",
       "      <td>Hotel</td>\n",
       "    </tr>\n",
       "    <tr>\n",
       "      <th>5</th>\n",
       "      <td>El peor huevos Benedict jamás</td>\n",
       "      <td>Hoy teníamos el desayuno por segunda vez en po...</td>\n",
       "      <td>0</td>\n",
       "      <td>Restaurant</td>\n",
       "    </tr>\n",
       "    <tr>\n",
       "      <th>...</th>\n",
       "      <td>...</td>\n",
       "      <td>...</td>\n",
       "      <td>...</td>\n",
       "      <td>...</td>\n",
       "    </tr>\n",
       "    <tr>\n",
       "      <th>30207</th>\n",
       "      <td>Verdadera joya arquitectónica</td>\n",
       "      <td>Es una construcción majestuosa, creo que de la...</td>\n",
       "      <td>4</td>\n",
       "      <td>Attractive</td>\n",
       "    </tr>\n",
       "    <tr>\n",
       "      <th>30208</th>\n",
       "      <td>Romántico</td>\n",
       "      <td>Muy al estilo de Romeo y Julieta es este sitio...</td>\n",
       "      <td>4</td>\n",
       "      <td>Attractive</td>\n",
       "    </tr>\n",
       "    <tr>\n",
       "      <th>30209</th>\n",
       "      <td>Parece un castillo</td>\n",
       "      <td>Ideal para subir las escalinatas y divisar su ...</td>\n",
       "      <td>4</td>\n",
       "      <td>Attractive</td>\n",
       "    </tr>\n",
       "    <tr>\n",
       "      <th>30210</th>\n",
       "      <td>Imperdible</td>\n",
       "      <td>Es imperdible, de ahí puedes ver muy bien la c...</td>\n",
       "      <td>4</td>\n",
       "      <td>Attractive</td>\n",
       "    </tr>\n",
       "    <tr>\n",
       "      <th>30211</th>\n",
       "      <td>Muy bonita vista</td>\n",
       "      <td>No te puedes ir de Guanajuato sin visitarlo......</td>\n",
       "      <td>4</td>\n",
       "      <td>Attractive</td>\n",
       "    </tr>\n",
       "  </tbody>\n",
       "</table>\n",
       "<p>25772 rows × 4 columns</p>\n",
       "</div>"
      ],
      "text/plain": [
       "                                       Title  \\\n",
       "0                               Pésimo lugar   \n",
       "1                  No vayas a lugar de Eddie   \n",
       "2               Mala relación calidad-precio   \n",
       "4      Es una porqueria no pierdan su tiempo   \n",
       "5              El peor huevos Benedict jamás   \n",
       "...                                      ...   \n",
       "30207          Verdadera joya arquitectónica   \n",
       "30208                              Romántico   \n",
       "30209                     Parece un castillo   \n",
       "30210                             Imperdible   \n",
       "30211                       Muy bonita vista   \n",
       "\n",
       "                                                 Opinion  Polarity  Attraction  \n",
       "0      Piensen dos veces antes de ir a este hotel, te...         0       Hotel  \n",
       "1      Cuatro de nosotros fuimos recientemente a Eddi...         0  Restaurant  \n",
       "2      seguiré corta y simple: limpieza\\n- bad. Tengo...         0       Hotel  \n",
       "4      No pierdan su tiempo ni dinero, venimos porque...         0       Hotel  \n",
       "5      Hoy teníamos el desayuno por segunda vez en po...         0  Restaurant  \n",
       "...                                                  ...       ...         ...  \n",
       "30207  Es una construcción majestuosa, creo que de la...         4  Attractive  \n",
       "30208  Muy al estilo de Romeo y Julieta es este sitio...         4  Attractive  \n",
       "30209  Ideal para subir las escalinatas y divisar su ...         4  Attractive  \n",
       "30210  Es imperdible, de ahí puedes ver muy bien la c...         4  Attractive  \n",
       "30211  No te puedes ir de Guanajuato sin visitarlo......         4  Attractive  \n",
       "\n",
       "[25772 rows x 4 columns]"
      ]
     },
     "execution_count": 25,
     "metadata": {},
     "output_type": "execute_result"
    }
   ],
   "source": [
    "datapd"
   ]
  },
  {
   "cell_type": "code",
   "execution_count": 26,
   "metadata": {},
   "outputs": [
    {
     "data": {
      "text/plain": [
       "Title         object\n",
       "Opinion       object\n",
       "Polarity       int64\n",
       "Attraction    object\n",
       "dtype: object"
      ]
     },
     "execution_count": 26,
     "metadata": {},
     "output_type": "execute_result"
    }
   ],
   "source": [
    "datapd.dtypes"
   ]
  },
  {
   "cell_type": "code",
   "execution_count": 27,
   "metadata": {},
   "outputs": [],
   "source": [
    "from datasets import Dataset\n",
    "raw_dataset = Dataset.from_pandas(datapd)\n",
    "\n"
   ]
  },
  {
   "cell_type": "code",
   "execution_count": 28,
   "metadata": {},
   "outputs": [
    {
     "name": "stdout",
     "output_type": "stream",
     "text": [
      "Dataset({\n",
      "    features: ['Title', 'Opinion', 'Polarity', 'Attraction', '__index_level_0__'],\n",
      "    num_rows: 25772\n",
      "})\n",
      "DatasetDict({\n",
      "    train: Dataset({\n",
      "        features: ['Title', 'Opinion', 'Polarity', 'Attraction', '__index_level_0__'],\n",
      "        num_rows: 20617\n",
      "    })\n",
      "    test: Dataset({\n",
      "        features: ['Title', 'Opinion', 'Polarity', 'Attraction', '__index_level_0__'],\n",
      "        num_rows: 5155\n",
      "    })\n",
      "})\n"
     ]
    },
    {
     "data": {
      "application/vnd.jupyter.widget-view+json": {
       "model_id": "c095148a8aca46cc9e067977a1aa0ebb",
       "version_major": 2,
       "version_minor": 0
      },
      "text/plain": [
       "Flattening the indices:   0%|          | 0/21 [00:00<?, ?ba/s]"
      ]
     },
     "metadata": {},
     "output_type": "display_data"
    },
    {
     "data": {
      "application/vnd.jupyter.widget-view+json": {
       "model_id": "9980a141f7cf4849ab89549fcb6003a8",
       "version_major": 2,
       "version_minor": 0
      },
      "text/plain": [
       "Flattening the indices:   0%|          | 0/6 [00:00<?, ?ba/s]"
      ]
     },
     "metadata": {},
     "output_type": "display_data"
    }
   ],
   "source": [
    "print(raw_dataset)\n",
    "raw_datasets = raw_dataset.shuffle(seed=50)\n",
    "raw_datasets = raw_datasets.train_test_split(0.2)\n",
    "print(raw_datasets)\n",
    "raw_datasets.save_to_disk(\"./data\")"
   ]
  },
  {
   "cell_type": "code",
   "execution_count": null,
   "metadata": {},
   "outputs": [],
   "source": []
  }
 ],
 "metadata": {
  "interpreter": {
   "hash": "d6a64f2c38f9968623135a8fad9c1eee06acf613206d3ab9bd941bde9bf30840"
  },
  "kernelspec": {
   "display_name": "Python 3",
   "language": "python",
   "name": "python3"
  },
  "language_info": {
   "codemirror_mode": {
    "name": "ipython",
    "version": 3
   },
   "file_extension": ".py",
   "mimetype": "text/x-python",
   "name": "python",
   "nbconvert_exporter": "python",
   "pygments_lexer": "ipython3",
   "version": "3.6.9"
  }
 },
 "nbformat": 4,
 "nbformat_minor": 4
}
