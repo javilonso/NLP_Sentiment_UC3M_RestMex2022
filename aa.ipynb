{
 "cells": [
  {
   "cell_type": "code",
<<<<<<< HEAD
   "execution_count": 1,
=======
   "execution_count": 9,
>>>>>>> 59fdf6d263e5da766d386dcd3a9bde89cdb64026
   "metadata": {},
   "outputs": [
    {
     "ename": "RuntimeError",
     "evalue": "Physical devices cannot be modified after being initialized",
     "output_type": "error",
     "traceback": [
      "\u001b[0;31m---------------------------------------------------------------------------\u001b[0m",
      "\u001b[0;31mRuntimeError\u001b[0m                              Traceback (most recent call last)",
      "\u001b[1;32m/home/mperez/nlp/subject_competition/main.ipynb Cell 1'\u001b[0m in \u001b[0;36m<cell line: 4>\u001b[0;34m()\u001b[0m\n\u001b[1;32m      <a href='vscode-notebook-cell://ssh-remote%2B10.117.129.199/home/mperez/nlp/subject_competition/main.ipynb#ch0000000vscode-remote?line=1'>2</a>\u001b[0m gpus \u001b[39m=\u001b[39m tf\u001b[39m.\u001b[39mconfig\u001b[39m.\u001b[39mlist_physical_devices(\u001b[39m'\u001b[39m\u001b[39mGPU\u001b[39m\u001b[39m'\u001b[39m)\n\u001b[1;32m      <a href='vscode-notebook-cell://ssh-remote%2B10.117.129.199/home/mperez/nlp/subject_competition/main.ipynb#ch0000000vscode-remote?line=2'>3</a>\u001b[0m tf\u001b[39m.\u001b[39mconfig\u001b[39m.\u001b[39mset_visible_devices(gpus[\u001b[39m0\u001b[39m], \u001b[39m'\u001b[39m\u001b[39mGPU\u001b[39m\u001b[39m'\u001b[39m)\n\u001b[0;32m----> <a href='vscode-notebook-cell://ssh-remote%2B10.117.129.199/home/mperez/nlp/subject_competition/main.ipynb#ch0000000vscode-remote?line=3'>4</a>\u001b[0m tf\u001b[39m.\u001b[39;49mconfig\u001b[39m.\u001b[39;49mexperimental\u001b[39m.\u001b[39;49mset_memory_growth(gpus[\u001b[39m0\u001b[39;49m], \u001b[39mTrue\u001b[39;49;00m)\n\u001b[1;32m      <a href='vscode-notebook-cell://ssh-remote%2B10.117.129.199/home/mperez/nlp/subject_competition/main.ipynb#ch0000000vscode-remote?line=4'>5</a>\u001b[0m tf\u001b[39m.\u001b[39mconfig\u001b[39m.\u001b[39mset_logical_device_configuration(\n\u001b[1;32m      <a href='vscode-notebook-cell://ssh-remote%2B10.117.129.199/home/mperez/nlp/subject_competition/main.ipynb#ch0000000vscode-remote?line=5'>6</a>\u001b[0m         gpus[\u001b[39m0\u001b[39m],\n\u001b[1;32m      <a href='vscode-notebook-cell://ssh-remote%2B10.117.129.199/home/mperez/nlp/subject_competition/main.ipynb#ch0000000vscode-remote?line=6'>7</a>\u001b[0m         [tf\u001b[39m.\u001b[39mconfig\u001b[39m.\u001b[39mLogicalDeviceConfiguration(memory_limit\u001b[39m=\u001b[39m\u001b[39m9216\u001b[39m  )])\n",
      "File \u001b[0;32m~/nlp/subject_competition/venv/lib/python3.9/site-packages/tensorflow/python/framework/config.py:713\u001b[0m, in \u001b[0;36mset_memory_growth\u001b[0;34m(device, enable)\u001b[0m\n\u001b[1;32m    <a href='file:///home/mperez/nlp/subject_competition/venv/lib/python3.9/site-packages/tensorflow/python/framework/config.py?line=687'>688</a>\u001b[0m \u001b[39m@tf_export\u001b[39m(\u001b[39m'\u001b[39m\u001b[39mconfig.experimental.set_memory_growth\u001b[39m\u001b[39m'\u001b[39m)\n\u001b[1;32m    <a href='file:///home/mperez/nlp/subject_competition/venv/lib/python3.9/site-packages/tensorflow/python/framework/config.py?line=688'>689</a>\u001b[0m \u001b[39mdef\u001b[39;00m \u001b[39mset_memory_growth\u001b[39m(device, enable):\n\u001b[1;32m    <a href='file:///home/mperez/nlp/subject_competition/venv/lib/python3.9/site-packages/tensorflow/python/framework/config.py?line=689'>690</a>\u001b[0m   \u001b[39m\"\"\"Set if memory growth should be enabled for a `PhysicalDevice`.\u001b[39;00m\n\u001b[1;32m    <a href='file:///home/mperez/nlp/subject_competition/venv/lib/python3.9/site-packages/tensorflow/python/framework/config.py?line=690'>691</a>\u001b[0m \n\u001b[1;32m    <a href='file:///home/mperez/nlp/subject_competition/venv/lib/python3.9/site-packages/tensorflow/python/framework/config.py?line=691'>692</a>\u001b[0m \u001b[39m  If memory growth is enabled for a `PhysicalDevice`, the runtime initialization\u001b[39;00m\n\u001b[0;32m   (...)\u001b[0m\n\u001b[1;32m    <a href='file:///home/mperez/nlp/subject_competition/venv/lib/python3.9/site-packages/tensorflow/python/framework/config.py?line=710'>711</a>\u001b[0m \u001b[39m    RuntimeError: Runtime is already initialized.\u001b[39;00m\n\u001b[1;32m    <a href='file:///home/mperez/nlp/subject_competition/venv/lib/python3.9/site-packages/tensorflow/python/framework/config.py?line=711'>712</a>\u001b[0m \u001b[39m  \"\"\"\u001b[39;00m\n\u001b[0;32m--> <a href='file:///home/mperez/nlp/subject_competition/venv/lib/python3.9/site-packages/tensorflow/python/framework/config.py?line=712'>713</a>\u001b[0m   context\u001b[39m.\u001b[39;49mcontext()\u001b[39m.\u001b[39;49mset_memory_growth(device, enable)\n",
      "File \u001b[0;32m~/nlp/subject_competition/venv/lib/python3.9/site-packages/tensorflow/python/eager/context.py:1587\u001b[0m, in \u001b[0;36mContext.set_memory_growth\u001b[0;34m(self, dev, enable)\u001b[0m\n\u001b[1;32m   <a href='file:///home/mperez/nlp/subject_competition/venv/lib/python3.9/site-packages/tensorflow/python/eager/context.py?line=1583'>1584</a>\u001b[0m   \u001b[39mreturn\u001b[39;00m\n\u001b[1;32m   <a href='file:///home/mperez/nlp/subject_competition/venv/lib/python3.9/site-packages/tensorflow/python/eager/context.py?line=1585'>1586</a>\u001b[0m \u001b[39mif\u001b[39;00m \u001b[39mself\u001b[39m\u001b[39m.\u001b[39m_context_handle \u001b[39mis\u001b[39;00m \u001b[39mnot\u001b[39;00m \u001b[39mNone\u001b[39;00m:\n\u001b[0;32m-> <a href='file:///home/mperez/nlp/subject_competition/venv/lib/python3.9/site-packages/tensorflow/python/eager/context.py?line=1586'>1587</a>\u001b[0m   \u001b[39mraise\u001b[39;00m \u001b[39mRuntimeError\u001b[39;00m(\n\u001b[1;32m   <a href='file:///home/mperez/nlp/subject_competition/venv/lib/python3.9/site-packages/tensorflow/python/eager/context.py?line=1587'>1588</a>\u001b[0m       \u001b[39m\"\u001b[39m\u001b[39mPhysical devices cannot be modified after being initialized\u001b[39m\u001b[39m\"\u001b[39m)\n\u001b[1;32m   <a href='file:///home/mperez/nlp/subject_competition/venv/lib/python3.9/site-packages/tensorflow/python/eager/context.py?line=1589'>1590</a>\u001b[0m \u001b[39mself\u001b[39m\u001b[39m.\u001b[39m_memory_growth_map[dev] \u001b[39m=\u001b[39m enable\n",
      "\u001b[0;31mRuntimeError\u001b[0m: Physical devices cannot be modified after being initialized"
     ]
    }
   ],
   "source": [
    "import tensorflow as tf\n",
    "gpus = tf.config.list_physical_devices('GPU')\n",
    "tf.config.set_visible_devices(gpus[0], 'GPU')\n",
    "tf.config.experimental.set_memory_growth(gpus[0], True)\n",
    "tf.config.set_logical_device_configuration(\n",
    "        gpus[0],\n",
    "        [tf.config.LogicalDeviceConfiguration(memory_limit=9216  )])"
   ]
  },
  {
   "cell_type": "code",
<<<<<<< HEAD
   "execution_count": 2,
=======
   "execution_count": 1,
>>>>>>> 59fdf6d263e5da766d386dcd3a9bde89cdb64026
   "metadata": {},
   "outputs": [
    {
     "name": "stderr",
     "output_type": "stream",
     "text": [
<<<<<<< HEAD
      "Using custom data configuration default-13c2fcae2abc0c4d\n"
     ]
    },
    {
     "name": "stdout",
     "output_type": "stream",
     "text": [
      "Downloading and preparing dataset csv/default to /home/javilonso/.cache/huggingface/datasets/csv/default-13c2fcae2abc0c4d/0.0.0/433e0ccc46f9880962cc2b12065189766fbb2bee57a221866138fb9203c83519...\n"
     ]
    },
    {
     "data": {
      "application/vnd.jupyter.widget-view+json": {
       "model_id": "16c25157cab04d048bd83068dab02afb",
       "version_major": 2,
       "version_minor": 0
      },
      "text/plain": [
       "Downloading data files:   0%|          | 0/1 [00:00<?, ?it/s]"
      ]
     },
     "metadata": {},
     "output_type": "display_data"
    },
    {
     "data": {
      "application/vnd.jupyter.widget-view+json": {
       "model_id": "93cb4aef14a243a7989dde8b4886c556",
       "version_major": 2,
       "version_minor": 0
      },
      "text/plain": [
       "Extracting data files:   0%|          | 0/1 [00:00<?, ?it/s]"
      ]
     },
     "metadata": {},
     "output_type": "display_data"
    },
    {
     "name": "stdout",
     "output_type": "stream",
     "text": [
      "Dataset csv downloaded and prepared to /home/javilonso/.cache/huggingface/datasets/csv/default-13c2fcae2abc0c4d/0.0.0/433e0ccc46f9880962cc2b12065189766fbb2bee57a221866138fb9203c83519. Subsequent calls will reuse this data.\n"
=======
      "Using custom data configuration default-3cdb5aa58b388d55\n",
      "Reusing dataset csv (/home/mperez/.cache/huggingface/datasets/csv/default-3cdb5aa58b388d55/0.0.0/433e0ccc46f9880962cc2b12065189766fbb2bee57a221866138fb9203c83519)\n"
>>>>>>> 59fdf6d263e5da766d386dcd3a9bde89cdb64026
     ]
    },
    {
     "data": {
      "application/vnd.jupyter.widget-view+json": {
<<<<<<< HEAD
       "model_id": "8f51337c284940bab10e3fa927a865c1",
=======
       "model_id": "1dbabfa5d89342e4a64b48c791f29eff",
>>>>>>> 59fdf6d263e5da766d386dcd3a9bde89cdb64026
       "version_major": 2,
       "version_minor": 0
      },
      "text/plain": [
       "  0%|          | 0/1 [00:00<?, ?it/s]"
      ]
     },
     "metadata": {},
     "output_type": "display_data"
    }
   ],
   "source": [
    "from datasets import load_dataset\n",
    "import numpy as np\n",
    "        \n",
    "raw_dataset = load_dataset(\"csv\", data_files=\"dataset/Rest_Mex_2022_Sentiment_Analysis_Track_Train.csv\", delimiter=\";\")"
   ]
  },
  {
   "cell_type": "code",
<<<<<<< HEAD
   "execution_count": 3,
=======
   "execution_count": 2,
>>>>>>> 59fdf6d263e5da766d386dcd3a9bde89cdb64026
   "metadata": {},
   "outputs": [
    {
     "name": "stdout",
     "output_type": "stream",
     "text": [
      "DatasetDict({\n",
      "    train: Dataset({\n",
      "        features: ['Title', 'Opinion', 'Polarity', 'Attraction'],\n",
      "        num_rows: 30212\n",
      "    })\n",
      "})\n",
      "DatasetDict({\n",
      "    train: Dataset({\n",
      "        features: ['Title', 'Opinion', 'Polarity', 'Attraction'],\n",
      "        num_rows: 24169\n",
      "    })\n",
      "    test: Dataset({\n",
      "        features: ['Title', 'Opinion', 'Polarity', 'Attraction'],\n",
      "        num_rows: 6043\n",
      "    })\n",
      "})\n"
     ]
    }
   ],
   "source": [
    "print(raw_dataset)\n",
    "raw_datasets = raw_dataset.shuffle(seed=50)\n",
    "raw_datasets = raw_datasets[\"train\"].train_test_split(0.2)\n",
    "print(raw_datasets)\n",
    "#raw_datasets.save_to_disk(\"./data/\")"
   ]
  },
  {
   "cell_type": "code",
<<<<<<< HEAD
   "execution_count": 4,
=======
   "execution_count": 3,
>>>>>>> 59fdf6d263e5da766d386dcd3a9bde89cdb64026
   "metadata": {},
   "outputs": [],
   "source": [
    "datapd = raw_dataset[\"train\"].to_pandas()"
   ]
  },
  {
   "cell_type": "code",
<<<<<<< HEAD
   "execution_count": 13,
   "metadata": {},
   "outputs": [
    {
     "data": {
      "text/plain": [
       "'Piensen dos veces antes de ir a este hotel, te molestan por todo, mi hijo de seis años traía un inflable de tamaño pequeño y nos decían que era muy grande ahí lo veían llorando y aún así seguían molestando, traíamos una hielera que parece bolsa nada de grande o con ruedas o de ese estilo y Tmb molestándonos las bebidas carísimas y ni agua te dejan tener en la alberca y no hay ni huéspedes en el hotel esto es en el mayan palace el grand mayan pude ser un poco mejor pero la verdad jamás vuelvo a venir a este lugar, te invitan a una cena show de mil pesos por persona y la cena es hoy dogs, las habitaciones nada fuera de lo normal'"
      ]
     },
     "execution_count": 13,
     "metadata": {},
     "output_type": "execute_result"
    }
   ],
   "source": [
    "datapd[\"Opinion\"].tolist()[0]"
   ]
  },
  {
   "cell_type": "code",
   "execution_count": 5,
=======
   "execution_count": 4,
>>>>>>> 59fdf6d263e5da766d386dcd3a9bde89cdb64026
   "metadata": {},
   "outputs": [
    {
     "name": "stdout",
     "output_type": "stream",
     "text": [
      "Polarity values(30212):\n",
      "5    20936\n",
      "4     5878\n",
      "3     2121\n",
      "2      730\n",
      "1      547\n",
      "Name: Polarity, dtype: int64\n",
      "\n",
      "Atraction values(30212):\n",
      "Hotel         16565\n",
      "Restaurant     8450\n",
      "Attractive     5197\n",
      "Name: Attraction, dtype: int64\n",
      "\n",
      "Title values:\n",
      "count    30211.000000\n",
      "mean        25.579987\n",
      "std         16.099598\n",
      "min          1.000000\n",
      "25%         15.000000\n",
      "50%         22.000000\n",
      "75%         32.000000\n",
      "max        153.000000\n",
      "Name: Title, dtype: float64\n",
      "\n",
      "Opinion values:\n",
      "count    30210.000000\n",
      "mean       625.505859\n",
      "std        951.186641\n",
      "min         25.000000\n",
      "25%        213.000000\n",
      "50%        309.000000\n",
      "75%        615.000000\n",
      "max      20438.000000\n",
      "Name: Opinion, dtype: float64\n"
     ]
    }
   ],
   "source": [
    "#Statistics\n",
    "print(f'Polarity values({datapd.Polarity.count()}):\\n{datapd.Polarity.value_counts()}\\n')\n",
    "print(f'Atraction values({datapd.Attraction.count()}):\\n{datapd.Attraction.value_counts()}\\n')\n",
    "print(f'Title values:\\n{datapd.Title.str.len().describe()}\\n')\n",
    "print(f'Opinion values:\\n{datapd.Opinion.str.len().describe()}') "
   ]
  },
  {
   "cell_type": "code",
<<<<<<< HEAD
   "execution_count": 14,
=======
   "execution_count": 5,
>>>>>>> 59fdf6d263e5da766d386dcd3a9bde89cdb64026
   "metadata": {},
   "outputs": [
    {
     "name": "stdout",
     "output_type": "stream",
     "text": [
      "                                       Title  \\\n",
      "0                               Pésimo lugar   \n",
      "1                  No vayas a lugar de Eddie   \n",
      "2               Mala relación calidad-precio   \n",
      "3           Minusválido? ¡No te alojes aquí!   \n",
      "4      Es una porqueria no pierdan su tiempo   \n",
      "...                                      ...   \n",
      "30207          Verdadera joya arquitectónica   \n",
      "30208                              Romántico   \n",
      "30209                     Parece un castillo   \n",
      "30210                             Imperdible   \n",
      "30211                       Muy bonita vista   \n",
      "\n",
      "                                                 Opinion  Polarity  Attraction  \n",
      "0      Piensen dos veces antes de ir a este hotel, te...         1       Hotel  \n",
      "1      Cuatro de nosotros fuimos recientemente a Eddi...         1  Restaurant  \n",
      "2      seguiré corta y simple: limpieza\\n- bad. Tengo...         1       Hotel  \n",
      "3      Al reservar un hotel con multipropiedad Mayan ...         1       Hotel  \n",
      "4      No pierdan su tiempo ni dinero, venimos porque...         1       Hotel  \n",
      "...                                                  ...       ...         ...  \n",
      "30207  Es una construcción majestuosa, creo que de la...         5  Attractive  \n",
      "30208  Muy al estilo de Romeo y Julieta es este sitio...         5  Attractive  \n",
      "30209  Ideal para subir las escalinatas y divisar su ...         5  Attractive  \n",
      "30210  Es imperdible, de ahí puedes ver muy bien la c...         5  Attractive  \n",
      "30211  No te puedes ir de Guanajuato sin visitarlo......         5  Attractive  \n",
      "\n",
      "[30209 rows x 4 columns]\n"
     ]
    }
   ],
   "source": [
    "# filter non empty title\n",
    "datapd = datapd[datapd.Title.str.len() > 0]\n",
    "# filter non empty opinion\n",
    "datapd = datapd[datapd.Opinion.str.len() > 0]\n",
    "print(datapd)"
   ]
  },
  {
   "cell_type": "code",
<<<<<<< HEAD
   "execution_count": 15,
=======
   "execution_count": 6,
>>>>>>> 59fdf6d263e5da766d386dcd3a9bde89cdb64026
   "metadata": {},
   "outputs": [
    {
     "name": "stdout",
     "output_type": "stream",
     "text": [
      "[  120  1441  1575  2856  2899  9616 11103 13342 16188 17490 17887 18271\n",
      " 19821 22035 24418 25674 26298]\n",
      "      Title                                            Opinion  Polarity  \\\n",
      "120       😠  Pésima atención, muy groseros!!! Te reciben pé...         1   \n",
      "1441      🤔  La noche de ayer fuimos mi esposo y yo a cenar...         3   \n",
      "1575      X  Les falta variedad y sabor en las comidas, en ...         3   \n",
      "2856      …  Fue un poco interesante pero no es la gran cos...         3   \n",
      "2899      X  Guanajuato tiene muchos callejones llenos de h...         3   \n",
      "9617      A  excelente comida, de verdad q los platillos so...         5   \n",
      "11104     😜  Todos son muy amables, me la pasé excelente, a...         5   \n",
      "13343     👌  Excelente su grupo de animación. Buscan la mej...         5   \n",
      "16189     .  Si te quedas en Vidanta Nuevo Vallarta te reco...         5   \n",
      "17491     .  Excelente servicio y totalmente recomendable (...         5   \n",
      "17888     😊  me pareció muy buen servicio atendidos por el ...         5   \n",
      "18272     😀  El servicio era genial; sin embargo, El Torro ...         5   \n",
      "19822     💐  Encantador el lugar excelente servicio... La v...         5   \n",
      "22036     😊  Excelente! La comida deliciosa, la atención mu...         5   \n",
      "24419     H  Excelente instalaciones, excelente ubicación e...         5   \n",
      "25675     🌞  Súper bien el hotel, todo de gran calidad, exc...         5   \n",
      "26299     😊  Muy buen servicio, buena comida, buen ambiente...         5   \n",
      "\n",
      "       Attraction  \n",
      "120    Restaurant  \n",
      "1441   Restaurant  \n",
      "1575        Hotel  \n",
      "2856   Attractive  \n",
      "2899   Attractive  \n",
      "9617   Restaurant  \n",
      "11104       Hotel  \n",
      "13343       Hotel  \n",
      "16189  Restaurant  \n",
      "17491       Hotel  \n",
      "17888  Restaurant  \n",
      "18272       Hotel  \n",
      "19822  Restaurant  \n",
      "22036  Restaurant  \n",
      "24419       Hotel  \n",
      "25675       Hotel  \n",
      "26299       Hotel  \n"
     ]
    }
   ],
   "source": [
    "lengths = datapd.Title.str.len()\n",
    "argmax = np.where(lengths == lengths.min())[0]\n",
    "print(argmax)\n",
    "print(datapd.iloc[argmax])"
   ]
  },
  {
   "cell_type": "code",
<<<<<<< HEAD
   "execution_count": 20,
   "metadata": {},
   "outputs": [],
   "source": [
    "data = datapd.to_json(orient='index', path_or_buf=\"datapad.json\")\n"
=======
   "execution_count": 2,
   "metadata": {},
   "outputs": [
    {
     "name": "stderr",
     "output_type": "stream",
     "text": [
      "2022-03-21 12:59:05.526421: I tensorflow/stream_executor/cuda/cuda_gpu_executor.cc:936] successful NUMA node read from SysFS had negative value (-1), but there must be at least one NUMA node, so returning NUMA node zero\n",
      "2022-03-21 12:59:05.554794: I tensorflow/stream_executor/cuda/cuda_gpu_executor.cc:936] successful NUMA node read from SysFS had negative value (-1), but there must be at least one NUMA node, so returning NUMA node zero\n",
      "2022-03-21 12:59:05.554927: I tensorflow/stream_executor/cuda/cuda_gpu_executor.cc:936] successful NUMA node read from SysFS had negative value (-1), but there must be at least one NUMA node, so returning NUMA node zero\n",
      "2022-03-21 12:59:05.568255: I tensorflow/core/platform/cpu_feature_guard.cc:151] This TensorFlow binary is optimized with oneAPI Deep Neural Network Library (oneDNN) to use the following CPU instructions in performance-critical operations:  AVX2 FMA\n",
      "To enable them in other operations, rebuild TensorFlow with the appropriate compiler flags.\n",
      "2022-03-21 12:59:05.594764: I tensorflow/stream_executor/cuda/cuda_gpu_executor.cc:936] successful NUMA node read from SysFS had negative value (-1), but there must be at least one NUMA node, so returning NUMA node zero\n",
      "2022-03-21 12:59:05.595356: I tensorflow/stream_executor/cuda/cuda_gpu_executor.cc:936] successful NUMA node read from SysFS had negative value (-1), but there must be at least one NUMA node, so returning NUMA node zero\n",
      "2022-03-21 12:59:05.595763: I tensorflow/stream_executor/cuda/cuda_gpu_executor.cc:936] successful NUMA node read from SysFS had negative value (-1), but there must be at least one NUMA node, so returning NUMA node zero\n",
      "2022-03-21 12:59:08.292670: I tensorflow/stream_executor/cuda/cuda_gpu_executor.cc:936] successful NUMA node read from SysFS had negative value (-1), but there must be at least one NUMA node, so returning NUMA node zero\n",
      "2022-03-21 12:59:08.293050: I tensorflow/stream_executor/cuda/cuda_gpu_executor.cc:936] successful NUMA node read from SysFS had negative value (-1), but there must be at least one NUMA node, so returning NUMA node zero\n",
      "2022-03-21 12:59:08.293389: I tensorflow/stream_executor/cuda/cuda_gpu_executor.cc:936] successful NUMA node read from SysFS had negative value (-1), but there must be at least one NUMA node, so returning NUMA node zero\n",
      "2022-03-21 12:59:08.299722: I tensorflow/core/common_runtime/gpu/gpu_device.cc:1525] Created device /job:localhost/replica:0/task:0/device:GPU:0 with 9717 MB memory:  -> device: 0, name: NVIDIA GeForce RTX 3060, pci bus id: 0000:01:00.0, compute capability: 8.6\n",
      "2022-03-21 12:59:12.185105: I tensorflow/stream_executor/cuda/cuda_blas.cc:1786] TensorFloat-32 will be used for the matrix multiplication. This will only be logged once.\n",
      "Some weights of the PyTorch model were not used when initializing the TF 2.0 model TFRobertaForSequenceClassification: ['roberta.embeddings.position_ids']\n",
      "- This IS expected if you are initializing TFRobertaForSequenceClassification from a PyTorch model trained on another task or with another architecture (e.g. initializing a TFBertForSequenceClassification model from a BertForPreTraining model).\n",
      "- This IS NOT expected if you are initializing TFRobertaForSequenceClassification from a PyTorch model that you expect to be exactly identical (e.g. initializing a TFBertForSequenceClassification model from a BertForSequenceClassification model).\n",
      "Some weights or buffers of the TF 2.0 model TFRobertaForSequenceClassification were not initialized from the PyTorch model and are newly initialized: ['classifier.dense.weight', 'classifier.dense.bias', 'classifier.out_proj.weight', 'classifier.out_proj.bias']\n",
      "You should probably TRAIN this model on a down-stream task to be able to use it for predictions and inference.\n"
     ]
    }
   ],
   "source": [
    "from transformers import AutoTokenizer, TFAutoModelForSequenceClassification\n",
    "\n",
    "tokenizer = AutoTokenizer.from_pretrained(\"PlanTL-GOB-ES/roberta-base-bne\")\n",
    "\n",
    "model = TFAutoModelForSequenceClassification.from_pretrained(\"PlanTL-GOB-ES/roberta-base-bne\", from_pt=True)\n",
    "\n"
   ]
  },
  {
   "cell_type": "code",
   "execution_count": 7,
   "metadata": {},
   "outputs": [
    {
     "ename": "NameError",
     "evalue": "name 'tokenizer' is not defined",
     "output_type": "error",
     "traceback": [
      "\u001b[0;31m---------------------------------------------------------------------------\u001b[0m",
      "\u001b[0;31mNameError\u001b[0m                                 Traceback (most recent call last)",
      "\u001b[1;32m/home/mperez/nlp/subject_competition/main.ipynb Cell 9'\u001b[0m in \u001b[0;36m<cell line: 3>\u001b[0;34m()\u001b[0m\n\u001b[1;32m      <a href='vscode-notebook-cell://ssh-remote%2B10.117.129.199/home/mperez/nlp/subject_competition/main.ipynb#ch0000008vscode-remote?line=0'>1</a>\u001b[0m text \u001b[39m=\u001b[39m \u001b[39m\"\u001b[39m\u001b[39mhola\u001b[39m\u001b[39m\"\u001b[39m\n\u001b[0;32m----> <a href='vscode-notebook-cell://ssh-remote%2B10.117.129.199/home/mperez/nlp/subject_competition/main.ipynb#ch0000008vscode-remote?line=2'>3</a>\u001b[0m tokenized_text \u001b[39m=\u001b[39m tokenizer(text, return_tensors\u001b[39m=\u001b[39m\u001b[39m\"\u001b[39m\u001b[39mpt\u001b[39m\u001b[39m\"\u001b[39m, padding\u001b[39m=\u001b[39m\u001b[39mTrue\u001b[39;00m, truncation\u001b[39m=\u001b[39m\u001b[39mTrue\u001b[39;00m)\n\u001b[1;32m      <a href='vscode-notebook-cell://ssh-remote%2B10.117.129.199/home/mperez/nlp/subject_competition/main.ipynb#ch0000008vscode-remote?line=3'>4</a>\u001b[0m \u001b[39mprint\u001b[39m(tokenized_text)\n\u001b[1;32m      <a href='vscode-notebook-cell://ssh-remote%2B10.117.129.199/home/mperez/nlp/subject_competition/main.ipynb#ch0000008vscode-remote?line=4'>5</a>\u001b[0m tokenized_text \u001b[39m=\u001b[39m tokenized_text\u001b[39m.\u001b[39mword_ids()\n",
      "\u001b[0;31mNameError\u001b[0m: name 'tokenizer' is not defined"
     ]
    }
   ],
   "source": [
    "text = \"hola\"\n",
    "\n",
    "tokenized_text = tokenizer(text, return_tensors=\"pt\", padding=True, truncation=True)\n",
    "print(tokenized_text)\n",
    "tokenized_text = tokenized_text.word_ids()\n",
    "print(tokenized_text)\n",
    "\n",
    "print(tokenizer.vocab.get(\"h\"))"
>>>>>>> 59fdf6d263e5da766d386dcd3a9bde89cdb64026
   ]
  }
 ],
 "metadata": {
  "interpreter": {
   "hash": "d6a64f2c38f9968623135a8fad9c1eee06acf613206d3ab9bd941bde9bf30840"
  },
  "kernelspec": {
   "display_name": "Python 3",
   "language": "python",
   "name": "python3"
  },
  "language_info": {
   "codemirror_mode": {
    "name": "ipython",
    "version": 3
   },
   "file_extension": ".py",
   "mimetype": "text/x-python",
   "name": "python",
   "nbconvert_exporter": "python",
   "pygments_lexer": "ipython3",
   "version": "3.6.9"
  }
 },
 "nbformat": 4,
 "nbformat_minor": 4
}
