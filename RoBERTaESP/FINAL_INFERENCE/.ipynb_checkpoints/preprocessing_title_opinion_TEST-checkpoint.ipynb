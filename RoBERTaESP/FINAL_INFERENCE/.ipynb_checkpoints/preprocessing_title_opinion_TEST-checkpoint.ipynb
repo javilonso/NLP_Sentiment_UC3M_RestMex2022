{
 "cells": [
  {
   "cell_type": "code",
   "execution_count": 11,
   "metadata": {},
   "outputs": [
    {
     "name": "stderr",
     "output_type": "stream",
     "text": [
      "Using custom data configuration default-ebb1d6db9fc3ca5f\n"
     ]
    },
    {
     "name": "stdout",
     "output_type": "stream",
     "text": [
      "Downloading and preparing dataset csv/default to /home/javilonso/.cache/huggingface/datasets/csv/default-ebb1d6db9fc3ca5f/0.0.0/433e0ccc46f9880962cc2b12065189766fbb2bee57a221866138fb9203c83519...\n"
     ]
    },
    {
     "data": {
      "application/vnd.jupyter.widget-view+json": {
       "model_id": "e5228f4e83314f19975ec7018a0d5094",
       "version_major": 2,
       "version_minor": 0
      },
      "text/plain": [
       "Downloading data files:   0%|          | 0/1 [00:00<?, ?it/s]"
      ]
     },
     "metadata": {},
     "output_type": "display_data"
    },
    {
     "data": {
      "application/vnd.jupyter.widget-view+json": {
       "model_id": "70ff515be500454187edfd389473d3dc",
       "version_major": 2,
       "version_minor": 0
      },
      "text/plain": [
       "Extracting data files:   0%|          | 0/1 [00:00<?, ?it/s]"
      ]
     },
     "metadata": {},
     "output_type": "display_data"
    },
    {
     "name": "stdout",
     "output_type": "stream",
     "text": [
      "Dataset csv downloaded and prepared to /home/javilonso/.cache/huggingface/datasets/csv/default-ebb1d6db9fc3ca5f/0.0.0/433e0ccc46f9880962cc2b12065189766fbb2bee57a221866138fb9203c83519. Subsequent calls will reuse this data.\n"
     ]
    },
    {
     "data": {
      "application/vnd.jupyter.widget-view+json": {
       "model_id": "f40d085f75a340c9984ab4fb746e187a",
       "version_major": 2,
       "version_minor": 0
      },
      "text/plain": [
       "  0%|          | 0/1 [00:00<?, ?it/s]"
      ]
     },
     "metadata": {},
     "output_type": "display_data"
    }
   ],
   "source": [
    "from datasets import load_dataset\n",
    "import numpy as np\n",
    " \n",
    "raw_dataset = load_dataset(\"csv\", data_files=\"/home/javilonso/NLP_Sentiment_UC3M/dataset_test/Rest_Mex_2022_Sentiment_Analysis_Track_Test.csv\", delimiter=\";\")"
   ]
  },
  {
   "cell_type": "code",
   "execution_count": 14,
   "metadata": {},
   "outputs": [],
   "source": [
    "datapd = raw_dataset[\"train\"].to_pandas()"
   ]
  },
  {
   "cell_type": "code",
   "execution_count": 15,
   "metadata": {},
   "outputs": [],
   "source": [
    "# for i in range(5):\n",
    "#     datapd.loc[datapd.Polarity == i+1, 'Polarity'] = i\n",
    "    \n",
    "# datapd.loc[datapd.Attraction == \"Hotel\", 'Attraction'] = 0\n",
    "# datapd.loc[datapd.Attraction == \"Restaurant\", 'Attraction'] = 1\n",
    "# datapd.loc[datapd.Attraction == \"Attractive\", 'Attraction'] = 2\n"
   ]
  },
  {
   "cell_type": "code",
   "execution_count": 16,
   "metadata": {},
   "outputs": [],
   "source": [
    "datapd[\"Title_Opinion\"] = datapd[\"Title\"] + \" \" + datapd[\"Opinion\"]\n",
    "\n"
   ]
  },
  {
   "cell_type": "code",
   "execution_count": 17,
   "metadata": {},
   "outputs": [
    {
     "data": {
      "text/html": [
       "<div>\n",
       "<style scoped>\n",
       "    .dataframe tbody tr th:only-of-type {\n",
       "        vertical-align: middle;\n",
       "    }\n",
       "\n",
       "    .dataframe tbody tr th {\n",
       "        vertical-align: top;\n",
       "    }\n",
       "\n",
       "    .dataframe thead th {\n",
       "        text-align: right;\n",
       "    }\n",
       "</style>\n",
       "<table border=\"1\" class=\"dataframe\">\n",
       "  <thead>\n",
       "    <tr style=\"text-align: right;\">\n",
       "      <th></th>\n",
       "      <th>Id</th>\n",
       "      <th>Title</th>\n",
       "      <th>Opinion</th>\n",
       "      <th>Title_Opinion</th>\n",
       "    </tr>\n",
       "  </thead>\n",
       "  <tbody>\n",
       "    <tr>\n",
       "      <th>0</th>\n",
       "      <td>1</td>\n",
       "      <td>Súper ..hotel,vacaciones ,lugar y precio !!</td>\n",
       "      <td>Magnifico lugar,gracias a la Srita marcela Are...</td>\n",
       "      <td>Súper ..hotel,vacaciones ,lugar y precio !! Ma...</td>\n",
       "    </tr>\n",
       "    <tr>\n",
       "      <th>1</th>\n",
       "      <td>2</td>\n",
       "      <td>Tortellini in brodo RIQUÍSIMOS</td>\n",
       "      <td>Sus tortellinis son riquísimos , tienen buena ...</td>\n",
       "      <td>Tortellini in brodo RIQUÍSIMOS Sus tortellinis...</td>\n",
       "    </tr>\n",
       "    <tr>\n",
       "      <th>2</th>\n",
       "      <td>3</td>\n",
       "      <td>Hermoso Hotel</td>\n",
       "      <td>excelente atención\\nMe recomendaron este hotel...</td>\n",
       "      <td>Hermoso Hotel excelente atención\\nMe recomenda...</td>\n",
       "    </tr>\n",
       "    <tr>\n",
       "      <th>3</th>\n",
       "      <td>4</td>\n",
       "      <td>ES OBLIGADO CONOCERLO</td>\n",
       "      <td>Típico lugar de Guanajuato con tradición. Hay ...</td>\n",
       "      <td>ES OBLIGADO CONOCERLO Típico lugar de Guanajua...</td>\n",
       "    </tr>\n",
       "    <tr>\n",
       "      <th>4</th>\n",
       "      <td>5</td>\n",
       "      <td>Simple</td>\n",
       "      <td>El museo de las momias es un lugar que no debe...</td>\n",
       "      <td>Simple El museo de las momias es un lugar que ...</td>\n",
       "    </tr>\n",
       "    <tr>\n",
       "      <th>...</th>\n",
       "      <td>...</td>\n",
       "      <td>...</td>\n",
       "      <td>...</td>\n",
       "      <td>...</td>\n",
       "    </tr>\n",
       "    <tr>\n",
       "      <th>12933</th>\n",
       "      <td>12934</td>\n",
       "      <td>Modesto Cali</td>\n",
       "      <td>La pasamos muy bien restaurantes limpios y los...</td>\n",
       "      <td>Modesto Cali La pasamos muy bien restaurantes ...</td>\n",
       "    </tr>\n",
       "    <tr>\n",
       "      <th>12934</th>\n",
       "      <td>12935</td>\n",
       "      <td>GUAU</td>\n",
       "      <td>Un gran complejo turístico todo incluido, con ...</td>\n",
       "      <td>GUAU Un gran complejo turístico todo incluido,...</td>\n",
       "    </tr>\n",
       "    <tr>\n",
       "      <th>12935</th>\n",
       "      <td>12936</td>\n",
       "      <td>Complejo mejor en el que he estado en Puerto V...</td>\n",
       "      <td>La Estancia es hermosa, la piscina y las insta...</td>\n",
       "      <td>Complejo mejor en el que he estado en Puerto V...</td>\n",
       "    </tr>\n",
       "    <tr>\n",
       "      <th>12936</th>\n",
       "      <td>12937</td>\n",
       "      <td>Hermoso teatro Juárez en Guanajuato</td>\n",
       "      <td>Me encanta visitar este lugar, está ves tuve l...</td>\n",
       "      <td>Hermoso teatro Juárez en Guanajuato Me encanta...</td>\n",
       "    </tr>\n",
       "    <tr>\n",
       "      <th>12937</th>\n",
       "      <td>12938</td>\n",
       "      <td>Me encanta este lugar!</td>\n",
       "      <td>Mi marido y yo vinimos aquí durante nuestra vi...</td>\n",
       "      <td>Me encanta este lugar! Mi marido y yo vinimos ...</td>\n",
       "    </tr>\n",
       "  </tbody>\n",
       "</table>\n",
       "<p>12938 rows × 4 columns</p>\n",
       "</div>"
      ],
      "text/plain": [
       "          Id                                              Title  \\\n",
       "0          1        Súper ..hotel,vacaciones ,lugar y precio !!   \n",
       "1          2                     Tortellini in brodo RIQUÍSIMOS   \n",
       "2          3                                      Hermoso Hotel   \n",
       "3          4                              ES OBLIGADO CONOCERLO   \n",
       "4          5                                             Simple   \n",
       "...      ...                                                ...   \n",
       "12933  12934                                       Modesto Cali   \n",
       "12934  12935                                               GUAU   \n",
       "12935  12936  Complejo mejor en el que he estado en Puerto V...   \n",
       "12936  12937                Hermoso teatro Juárez en Guanajuato   \n",
       "12937  12938                             Me encanta este lugar!   \n",
       "\n",
       "                                                 Opinion  \\\n",
       "0      Magnifico lugar,gracias a la Srita marcela Are...   \n",
       "1      Sus tortellinis son riquísimos , tienen buena ...   \n",
       "2      excelente atención\\nMe recomendaron este hotel...   \n",
       "3      Típico lugar de Guanajuato con tradición. Hay ...   \n",
       "4      El museo de las momias es un lugar que no debe...   \n",
       "...                                                  ...   \n",
       "12933  La pasamos muy bien restaurantes limpios y los...   \n",
       "12934  Un gran complejo turístico todo incluido, con ...   \n",
       "12935  La Estancia es hermosa, la piscina y las insta...   \n",
       "12936  Me encanta visitar este lugar, está ves tuve l...   \n",
       "12937  Mi marido y yo vinimos aquí durante nuestra vi...   \n",
       "\n",
       "                                           Title_Opinion  \n",
       "0      Súper ..hotel,vacaciones ,lugar y precio !! Ma...  \n",
       "1      Tortellini in brodo RIQUÍSIMOS Sus tortellinis...  \n",
       "2      Hermoso Hotel excelente atención\\nMe recomenda...  \n",
       "3      ES OBLIGADO CONOCERLO Típico lugar de Guanajua...  \n",
       "4      Simple El museo de las momias es un lugar que ...  \n",
       "...                                                  ...  \n",
       "12933  Modesto Cali La pasamos muy bien restaurantes ...  \n",
       "12934  GUAU Un gran complejo turístico todo incluido,...  \n",
       "12935  Complejo mejor en el que he estado en Puerto V...  \n",
       "12936  Hermoso teatro Juárez en Guanajuato Me encanta...  \n",
       "12937  Me encanta este lugar! Mi marido y yo vinimos ...  \n",
       "\n",
       "[12938 rows x 4 columns]"
      ]
     },
     "execution_count": 17,
     "metadata": {},
     "output_type": "execute_result"
    }
   ],
   "source": [
    "datapd"
   ]
  },
  {
   "cell_type": "code",
   "execution_count": 18,
   "metadata": {},
   "outputs": [
    {
     "data": {
      "text/plain": [
       "Id               object\n",
       "Title            object\n",
       "Opinion          object\n",
       "Title_Opinion    object\n",
       "dtype: object"
      ]
     },
     "execution_count": 18,
     "metadata": {},
     "output_type": "execute_result"
    }
   ],
   "source": [
    "datapd.dtypes"
   ]
  },
  {
   "cell_type": "code",
   "execution_count": 19,
   "metadata": {},
   "outputs": [],
   "source": [
    "from datasets import Dataset\n",
    "raw_dataset = Dataset.from_pandas(datapd)\n",
    "\n"
   ]
  },
  {
   "cell_type": "code",
   "execution_count": 21,
   "metadata": {},
   "outputs": [
    {
     "data": {
      "application/vnd.jupyter.widget-view+json": {
       "model_id": "67f15649462e4cf99fa9f1dc214f4efa",
       "version_major": 2,
       "version_minor": 0
      },
      "text/plain": [
       "Pushing dataset shards to the dataset hub:   0%|          | 0/1 [00:00<?, ?it/s]"
      ]
     },
     "metadata": {},
     "output_type": "display_data"
    }
   ],
   "source": [
    "raw_dataset.push_to_hub(\"javilonso/TEST_mex_data_title_with_opinion\")\n"
   ]
  }
 ],
 "metadata": {
  "interpreter": {
   "hash": "d6a64f2c38f9968623135a8fad9c1eee06acf613206d3ab9bd941bde9bf30840"
  },
  "kernelspec": {
   "display_name": "Python 3",
   "language": "python",
   "name": "python3"
  },
  "language_info": {
   "codemirror_mode": {
    "name": "ipython",
    "version": 3
   },
   "file_extension": ".py",
   "mimetype": "text/x-python",
   "name": "python",
   "nbconvert_exporter": "python",
   "pygments_lexer": "ipython3",
   "version": "3.6.9"
  }
 },
 "nbformat": 4,
 "nbformat_minor": 4
}
