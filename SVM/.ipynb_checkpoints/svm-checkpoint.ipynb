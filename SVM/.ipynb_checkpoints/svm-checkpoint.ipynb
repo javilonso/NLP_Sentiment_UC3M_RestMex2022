{
 "cells": [
  {
   "cell_type": "code",
   "execution_count": 79,
   "id": "a7c21e44-899c-412c-8b41-1978969a74fc",
   "metadata": {},
   "outputs": [
    {
     "name": "stdout",
     "output_type": "stream",
     "text": [
      "Defaulting to user installation because normal site-packages is not writeable\n",
      "Requirement already satisfied: gensim==3.8.1 in /home/javilonso/.local/lib/python3.6/site-packages (3.8.1)\n",
      "Requirement already satisfied: numpy>=1.11.3 in /home/javilonso/.local/lib/python3.6/site-packages (from gensim==3.8.1) (1.19.5)\n",
      "Requirement already satisfied: six>=1.5.0 in /home/javilonso/.local/lib/python3.6/site-packages (from gensim==3.8.1) (1.15.0)\n",
      "Requirement already satisfied: smart-open>=1.8.1 in /home/javilonso/.local/lib/python3.6/site-packages (from gensim==3.8.1) (5.2.1)\n",
      "Requirement already satisfied: scipy>=0.18.1 in /home/javilonso/.local/lib/python3.6/site-packages (from gensim==3.8.1) (1.5.4)\n",
      "\u001b[33mWARNING: You are using pip version 21.2.4; however, version 21.3.1 is available.\n",
      "You should consider upgrading via the '/usr/bin/python3 -m pip install --upgrade pip' command.\u001b[0m\n"
     ]
    }
   ],
   "source": [
    "!pip install gensim==3.8.1\n",
    "from gensim.models import KeyedVectors\n",
    "\n",
    "path_model = \"embeddings-l-model.vec\"\n",
    "# Load vectors directly from the file\n",
    "modelWV = KeyedVectors.load_word2vec_format(path_model, limit=300000)\n",
    "DIMENSION=300"
   ]
  },
  {
   "cell_type": "raw",
   "id": "1cdf1d09-21f0-4476-996d-61f8282aef5f",
   "metadata": {},
   "source": [
    "-------- DATA --------"
   ]
  },
  {
   "cell_type": "code",
   "execution_count": 80,
   "id": "3807e9d2-e8f9-4cf8-b83c-810e22c445a3",
   "metadata": {},
   "outputs": [],
   "source": [
    "import pandas as pd\n",
    "import sklearn\n",
    "\n",
    "datapad = pd.read_json(\"datapad.json\", orient='index')"
   ]
  },
  {
   "cell_type": "code",
   "execution_count": 122,
   "id": "fe542bb2-1ad9-4714-900b-029f37b679f9",
   "metadata": {},
   "outputs": [
    {
     "name": "stdout",
     "output_type": "stream",
     "text": [
      "Defaulting to user installation because normal site-packages is not writeable\n",
      "Requirement already satisfied: sklearn in /home/javilonso/.local/lib/python3.6/site-packages (0.0)\n",
      "Requirement already satisfied: scikit-learn in /home/javilonso/.local/lib/python3.6/site-packages (from sklearn) (0.24.2)\n",
      "Requirement already satisfied: scipy>=0.19.1 in /home/javilonso/.local/lib/python3.6/site-packages (from scikit-learn->sklearn) (1.5.4)\n",
      "Requirement already satisfied: joblib>=0.11 in /home/javilonso/.local/lib/python3.6/site-packages (from scikit-learn->sklearn) (1.1.0)\n",
      "Requirement already satisfied: threadpoolctl>=2.0.0 in /home/javilonso/.local/lib/python3.6/site-packages (from scikit-learn->sklearn) (3.0.0)\n",
      "Requirement already satisfied: numpy>=1.13.3 in /home/javilonso/.local/lib/python3.6/site-packages (from scikit-learn->sklearn) (1.19.5)\n",
      "\u001b[33mWARNING: You are using pip version 21.2.4; however, version 21.3.1 is available.\n",
      "You should consider upgrading via the '/usr/bin/python3 -m pip install --upgrade pip' command.\u001b[0m\n",
      "24167 24167\n",
      "6042 6042\n"
     ]
    }
   ],
   "source": [
    "# Preprocess data\n",
    "!pip install sklearn\n",
    "from sklearn.model_selection import train_test_split\n",
    "    \n",
    "X_train, X_test, y_train, y_test = train_test_split(datapad[\"Opinion\"].tolist(), \n",
    "                                                    list(zip(datapad[\"Polarity\"],datapad[\"Attraction\"])), \n",
    "                                                    test_size=0.2, random_state=50)\n",
    "\n",
    "y_train_polarity = [str(x[0]) for x in y_train]\n",
    "y_test_polarity = [str(x[0]) for x in y_test]\n",
    "\n",
    "y_train_attraction = [x[1] for x in y_train]\n",
    "y_test_attraction = [x[1] for x in y_test]\n",
    "\n",
    "\n",
    "print(len(X_train), len(y_train))\n",
    "print(len(X_test), len(y_test))\n"
   ]
  },
  {
   "cell_type": "code",
   "execution_count": 123,
   "id": "84e94430-60fe-49e9-8602-4322e27ecfcb",
   "metadata": {},
   "outputs": [],
   "source": [
    "import numpy as np\n",
    "\n",
    "def getDocVec(text):\n",
    "    \"\"\"gets a text and returns a vector for this text\"\"\"\n",
    "\n",
    "    tokens=text.split()\n",
    "    data=[]\n",
    "    n=0\n",
    "    for token in tokens:\n",
    "        token=token.lower()\n",
    "        if token in modelWV.vocab:\n",
    "            data.append(modelWV[token])\n",
    "            n += 1\n",
    "            \n",
    "    if len(data)>0:     \n",
    "        #vectors = np.array(data)\n",
    "        res = [sum(i)/n for i in zip(*data)]\n",
    "    else:\n",
    "        res =[0]*DIMENSION\n",
    "\n",
    "    #return np.average(vectors, axis=0)\n",
    "    return res\n",
    "\n",
    "# text=\"Esto es un ejemplo de texto\"\n",
    "# print(len(getDocVec(text)))"
   ]
  },
  {
   "cell_type": "code",
   "execution_count": 124,
   "id": "bbf3eb12-eb02-4527-bcaa-9d79b6957dc9",
   "metadata": {},
   "outputs": [
    {
     "name": "stdout",
     "output_type": "stream",
     "text": [
      "text vectors for training were created\n"
     ]
    }
   ],
   "source": [
    "X_vectors_train = []\n",
    "for text in X_train:\n",
    "  docVector = getDocVec(text)\n",
    "  X_vectors_train.append(docVector)\n",
    "  \n",
    "print('text vectors for training were created' )"
   ]
  },
  {
   "cell_type": "code",
   "execution_count": 125,
   "id": "9dbd03f9-270e-422a-b1bc-585a83e88357",
   "metadata": {},
   "outputs": [
    {
     "name": "stdout",
     "output_type": "stream",
     "text": [
      "text vectors for test were created\n"
     ]
    }
   ],
   "source": [
    "X_vectors_test = []\n",
    "for text in X_test:\n",
    "  docVector=getDocVec(text)\n",
    "  X_vectors_test.append(docVector)\n",
    "  \n",
    "print('text vectors for test were created' )"
   ]
  },
  {
   "cell_type": "code",
   "execution_count": 126,
   "id": "d80f93d8-55d8-4954-a675-4b285dd568a1",
   "metadata": {},
   "outputs": [
    {
     "name": "stdout",
     "output_type": "stream",
     "text": [
      "24167 24167\n",
      "300\n",
      "6042 6042\n"
     ]
    }
   ],
   "source": [
    "print(len(X_vectors_train), len(y_train))\n",
    "print(len(X_vectors_train[0]))\n",
    "print(len(X_vectors_test), len(y_test))\n"
   ]
  },
  {
   "cell_type": "raw",
   "id": "7377c9c9-a133-47a2-9749-544b47fe4f01",
   "metadata": {},
   "source": [
    "-------- ATTRACTION MODEL --------"
   ]
  },
  {
   "cell_type": "code",
   "execution_count": 117,
   "id": "ab3761bf-92c3-4d8e-857b-59356736b172",
   "metadata": {},
   "outputs": [
    {
     "name": "stdout",
     "output_type": "stream",
     "text": [
      "model was trained!!\n"
     ]
    }
   ],
   "source": [
    "from sklearn import svm\n",
    "\n",
    "modelSVM=svm.SVC()\n",
    "modelSVM.fit(X_vectors_train, y_train_attraction)\n",
    "print('model was trained!!')"
   ]
  },
  {
   "cell_type": "code",
   "execution_count": 118,
   "id": "09c43d16-0709-4f59-939f-4e86c96e7a65",
   "metadata": {},
   "outputs": [
    {
     "name": "stdout",
     "output_type": "stream",
     "text": [
      "              precision    recall  f1-score   support\n",
      "\n",
      "  Attractive       0.98      0.96      0.97      1061\n",
      "       Hotel       0.96      0.97      0.96      3297\n",
      "  Restaurant       0.93      0.92      0.92      1684\n",
      "\n",
      "    accuracy                           0.95      6042\n",
      "   macro avg       0.95      0.95      0.95      6042\n",
      "weighted avg       0.95      0.95      0.95      6042\n",
      "\n"
     ]
    }
   ],
   "source": [
    "# TEST Predictions\n",
    "from sklearn.metrics import classification_report\n",
    "\n",
    "y_pred=modelSVM.predict(X_vectors_test)\n",
    "print(classification_report(y_test_attraction, y_pred))\n"
   ]
  },
  {
   "cell_type": "raw",
   "id": "dd17492e-dc1d-41cd-97cd-0f0b705220fb",
   "metadata": {},
   "source": [
    "-------- POLARITY MODEL --------"
   ]
  },
  {
   "cell_type": "code",
   "execution_count": 127,
   "id": "a45c4444-f50a-4cc9-a146-712f68e4511a",
   "metadata": {},
   "outputs": [
    {
     "name": "stdout",
     "output_type": "stream",
     "text": [
      "model was trained!!\n"
     ]
    }
   ],
   "source": [
    "from sklearn import svm\n",
    "\n",
    "modelSVM=svm.SVC()\n",
    "modelSVM.fit(X_vectors_train,y_train_polarity)\n",
    "print('model was trained!!')"
   ]
  },
  {
   "cell_type": "code",
   "execution_count": 128,
   "id": "6b0b78a3-0b72-4a23-b48d-927b8539415e",
   "metadata": {},
   "outputs": [
    {
     "name": "stdout",
     "output_type": "stream",
     "text": [
      "              precision    recall  f1-score   support\n",
      "\n",
      "           1       0.83      0.05      0.09       111\n",
      "           2       0.00      0.00      0.00       149\n",
      "           3       0.42      0.20      0.27       407\n",
      "           4       0.00      0.00      0.00      1147\n",
      "           5       0.72      1.00      0.84      4228\n",
      "\n",
      "    accuracy                           0.71      6042\n",
      "   macro avg       0.39      0.25      0.24      6042\n",
      "weighted avg       0.55      0.71      0.60      6042\n",
      "\n"
     ]
    },
    {
     "name": "stderr",
     "output_type": "stream",
     "text": [
      "/home/javilonso/.local/lib/python3.6/site-packages/sklearn/metrics/_classification.py:1248: UndefinedMetricWarning: Precision and F-score are ill-defined and being set to 0.0 in labels with no predicted samples. Use `zero_division` parameter to control this behavior.\n",
      "  _warn_prf(average, modifier, msg_start, len(result))\n",
      "/home/javilonso/.local/lib/python3.6/site-packages/sklearn/metrics/_classification.py:1248: UndefinedMetricWarning: Precision and F-score are ill-defined and being set to 0.0 in labels with no predicted samples. Use `zero_division` parameter to control this behavior.\n",
      "  _warn_prf(average, modifier, msg_start, len(result))\n",
      "/home/javilonso/.local/lib/python3.6/site-packages/sklearn/metrics/_classification.py:1248: UndefinedMetricWarning: Precision and F-score are ill-defined and being set to 0.0 in labels with no predicted samples. Use `zero_division` parameter to control this behavior.\n",
      "  _warn_prf(average, modifier, msg_start, len(result))\n"
     ]
    }
   ],
   "source": [
    "# TEST Predictions\n",
    "from sklearn.metrics import classification_report\n",
    "\n",
    "y_pred=modelSVM.predict(X_vectors_test)\n",
    "print(classification_report(y_test_polarity, y_pred))\n"
   ]
  }
 ],
 "metadata": {
  "kernelspec": {
   "display_name": "Python 3",
   "language": "python",
   "name": "python3"
  },
  "language_info": {
   "codemirror_mode": {
    "name": "ipython",
    "version": 3
   },
   "file_extension": ".py",
   "mimetype": "text/x-python",
   "name": "python",
   "nbconvert_exporter": "python",
   "pygments_lexer": "ipython3",
   "version": "3.6.9"
  }
 },
 "nbformat": 4,
 "nbformat_minor": 5
}
