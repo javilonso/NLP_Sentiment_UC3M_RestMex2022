{
 "cells": [
  {
   "cell_type": "code",
   "execution_count": 1,
   "metadata": {},
   "outputs": [
    {
     "name": "stderr",
     "output_type": "stream",
     "text": [
      "Using custom data configuration default-3cdb5aa58b388d55\n",
      "Reusing dataset csv (/home/mperez/.cache/huggingface/datasets/csv/default-3cdb5aa58b388d55/0.0.0/433e0ccc46f9880962cc2b12065189766fbb2bee57a221866138fb9203c83519)\n"
     ]
    },
    {
     "data": {
      "application/vnd.jupyter.widget-view+json": {
       "model_id": "9eff0fd263c64de2b21947522c939d0d",
       "version_major": 2,
       "version_minor": 0
      },
      "text/plain": [
       "  0%|          | 0/1 [00:00<?, ?it/s]"
      ]
     },
     "metadata": {},
     "output_type": "display_data"
    }
   ],
   "source": [
    "from datasets import load_dataset\n",
    "import numpy as np\n",
    "        \n",
    "raw_dataset = load_dataset(\"csv\", data_files=\"./../dataset/Rest_Mex_2022_Sentiment_Analysis_Track_Train.csv\", delimiter=\";\")"
   ]
  },
  {
   "cell_type": "code",
   "execution_count": 2,
   "metadata": {},
   "outputs": [],
   "source": [
    "datapd = raw_dataset[\"train\"].to_pandas()"
   ]
  },
  {
   "cell_type": "code",
   "execution_count": 3,
   "metadata": {},
   "outputs": [
    {
     "name": "stdout",
     "output_type": "stream",
     "text": [
      "Polarity values(30212):\n",
      "5    20936\n",
      "4     5878\n",
      "3     2121\n",
      "2      730\n",
      "1      547\n",
      "Name: Polarity, dtype: int64\n",
      "\n",
      "Atraction values(30212):\n",
      "Hotel         16565\n",
      "Restaurant     8450\n",
      "Attractive     5197\n",
      "Name: Attraction, dtype: int64\n",
      "\n",
      "Title values:\n",
      "count    30211.000000\n",
      "mean        25.579987\n",
      "std         16.099598\n",
      "min          1.000000\n",
      "25%         15.000000\n",
      "50%         22.000000\n",
      "75%         32.000000\n",
      "max        153.000000\n",
      "Name: Title, dtype: float64\n",
      "\n",
      "Opinion values:\n",
      "count    30210.000000\n",
      "mean       625.505859\n",
      "std        951.186641\n",
      "min         25.000000\n",
      "25%        213.000000\n",
      "50%        309.000000\n",
      "75%        615.000000\n",
      "max      20438.000000\n",
      "Name: Opinion, dtype: float64\n"
     ]
    }
   ],
   "source": [
    "print(f'Polarity values({datapd.Polarity.count()}):\\n{datapd.Polarity.value_counts()}\\n')\n",
    "print(f'Atraction values({datapd.Attraction.count()}):\\n{datapd.Attraction.value_counts()}\\n')\n",
    "print(f'Title values:\\n{datapd.Title.str.len().describe()}\\n')\n",
    "print(f'Opinion values:\\n{datapd.Opinion.str.len().describe()}') "
   ]
  },
  {
   "cell_type": "code",
   "execution_count": 4,
   "metadata": {},
   "outputs": [],
   "source": [
    "# filter non empty title\n",
    "datapd = datapd[datapd.Title.str.len() > 0]\n",
    "# filter non empty opinion\n",
    "datapd = datapd[datapd.Opinion.str.len() > 0]"
   ]
  },
  {
   "cell_type": "code",
   "execution_count": 5,
   "metadata": {},
   "outputs": [],
   "source": [
    "from datasets import Dataset\n",
    "raw_dataset = Dataset.from_pandas(datapd)\n",
    "\n"
   ]
  },
  {
   "cell_type": "code",
   "execution_count": 7,
   "metadata": {},
   "outputs": [
    {
     "name": "stdout",
     "output_type": "stream",
     "text": [
      "Dataset({\n",
      "    features: ['Title', 'Opinion', 'Polarity', 'Attraction', '__index_level_0__'],\n",
      "    num_rows: 30209\n",
      "})\n",
      "DatasetDict({\n",
      "    train: Dataset({\n",
      "        features: ['Title', 'Opinion', 'Polarity', 'Attraction', '__index_level_0__'],\n",
      "        num_rows: 24167\n",
      "    })\n",
      "    test: Dataset({\n",
      "        features: ['Title', 'Opinion', 'Polarity', 'Attraction', '__index_level_0__'],\n",
      "        num_rows: 6042\n",
      "    })\n",
      "})\n"
     ]
    },
    {
     "data": {
      "application/vnd.jupyter.widget-view+json": {
       "model_id": "05dd27d54b45406e990e3b7e222d5dd9",
       "version_major": 2,
       "version_minor": 0
      },
      "text/plain": [
       "Flattening the indices:   0%|          | 0/25 [00:00<?, ?ba/s]"
      ]
     },
     "metadata": {},
     "output_type": "display_data"
    },
    {
     "data": {
      "application/vnd.jupyter.widget-view+json": {
       "model_id": "c1a035251c764048b17539516d887748",
       "version_major": 2,
       "version_minor": 0
      },
      "text/plain": [
       "Flattening the indices:   0%|          | 0/7 [00:00<?, ?ba/s]"
      ]
     },
     "metadata": {},
     "output_type": "display_data"
    }
   ],
   "source": [
    "print(raw_dataset)\n",
    "raw_datasets = raw_dataset.shuffle(seed=50)\n",
    "raw_datasets = raw_datasets.train_test_split(0.2)\n",
    "print(raw_datasets)\n",
    "raw_datasets.save_to_disk(\"./data\")"
   ]
  }
 ],
 "metadata": {
  "interpreter": {
   "hash": "d6a64f2c38f9968623135a8fad9c1eee06acf613206d3ab9bd941bde9bf30840"
  },
  "kernelspec": {
   "display_name": "Python 3.9.7 ('venv': venv)",
   "language": "python",
   "name": "python3"
  },
  "language_info": {
   "codemirror_mode": {
    "name": "ipython",
    "version": 3
   },
   "file_extension": ".py",
   "mimetype": "text/x-python",
   "name": "python",
   "nbconvert_exporter": "python",
   "pygments_lexer": "ipython3",
   "version": "3.9.7"
  },
  "orig_nbformat": 4
 },
 "nbformat": 4,
 "nbformat_minor": 2
}
