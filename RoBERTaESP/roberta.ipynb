{
 "cells": [
  {
   "cell_type": "code",
   "execution_count": 1,
   "metadata": {},
   "outputs": [
    {
     "name": "stderr",
     "output_type": "stream",
     "text": [
      "2022-03-22 17:35:22.872266: E tensorflow/stream_executor/cuda/cuda_driver.cc:271] failed call to cuInit: CUDA_ERROR_SYSTEM_DRIVER_MISMATCH: system has unsupported display driver / cuda driver combination\n",
      "2022-03-22 17:35:22.872287: I tensorflow/stream_executor/cuda/cuda_diagnostics.cc:169] retrieving CUDA diagnostic information for host: GPU-AURUS\n",
      "2022-03-22 17:35:22.872290: I tensorflow/stream_executor/cuda/cuda_diagnostics.cc:176] hostname: GPU-AURUS\n",
      "2022-03-22 17:35:22.872320: I tensorflow/stream_executor/cuda/cuda_diagnostics.cc:200] libcuda reported version is: 510.54.0\n",
      "2022-03-22 17:35:22.872329: I tensorflow/stream_executor/cuda/cuda_diagnostics.cc:204] kernel reported version is: 510.47.3\n",
      "2022-03-22 17:35:22.872332: E tensorflow/stream_executor/cuda/cuda_diagnostics.cc:313] kernel version 510.47.3 does not match DSO version 510.54.0 -- cannot find working devices in this configuration\n"
     ]
    },
    {
     "ename": "IndexError",
     "evalue": "list index out of range",
     "output_type": "error",
     "traceback": [
      "\u001b[0;31m---------------------------------------------------------------------------\u001b[0m",
      "\u001b[0;31mIndexError\u001b[0m                                Traceback (most recent call last)",
      "\u001b[1;32m/home/mperez/nlp/subject_competition/RoBERTaESP/roberta.ipynb Cell 1'\u001b[0m in \u001b[0;36m<cell line: 3>\u001b[0;34m()\u001b[0m\n\u001b[1;32m      <a href='vscode-notebook-cell://ssh-remote%2B10.117.129.199/home/mperez/nlp/subject_competition/RoBERTaESP/roberta.ipynb#ch0000000vscode-remote?line=0'>1</a>\u001b[0m \u001b[39mimport\u001b[39;00m \u001b[39mtensorflow\u001b[39;00m \u001b[39mas\u001b[39;00m \u001b[39mtf\u001b[39;00m\n\u001b[1;32m      <a href='vscode-notebook-cell://ssh-remote%2B10.117.129.199/home/mperez/nlp/subject_competition/RoBERTaESP/roberta.ipynb#ch0000000vscode-remote?line=1'>2</a>\u001b[0m gpus \u001b[39m=\u001b[39m tf\u001b[39m.\u001b[39mconfig\u001b[39m.\u001b[39mlist_physical_devices(\u001b[39m'\u001b[39m\u001b[39mGPU\u001b[39m\u001b[39m'\u001b[39m)\n\u001b[0;32m----> <a href='vscode-notebook-cell://ssh-remote%2B10.117.129.199/home/mperez/nlp/subject_competition/RoBERTaESP/roberta.ipynb#ch0000000vscode-remote?line=2'>3</a>\u001b[0m tf\u001b[39m.\u001b[39mconfig\u001b[39m.\u001b[39mset_visible_devices(gpus[\u001b[39m0\u001b[39;49m], \u001b[39m'\u001b[39m\u001b[39mGPU\u001b[39m\u001b[39m'\u001b[39m)\n\u001b[1;32m      <a href='vscode-notebook-cell://ssh-remote%2B10.117.129.199/home/mperez/nlp/subject_competition/RoBERTaESP/roberta.ipynb#ch0000000vscode-remote?line=3'>4</a>\u001b[0m tf\u001b[39m.\u001b[39mconfig\u001b[39m.\u001b[39mexperimental\u001b[39m.\u001b[39mset_memory_growth(gpus[\u001b[39m0\u001b[39m], \u001b[39mTrue\u001b[39;00m)\n\u001b[1;32m      <a href='vscode-notebook-cell://ssh-remote%2B10.117.129.199/home/mperez/nlp/subject_competition/RoBERTaESP/roberta.ipynb#ch0000000vscode-remote?line=4'>5</a>\u001b[0m tf\u001b[39m.\u001b[39mconfig\u001b[39m.\u001b[39mset_logical_device_configuration(\n\u001b[1;32m      <a href='vscode-notebook-cell://ssh-remote%2B10.117.129.199/home/mperez/nlp/subject_competition/RoBERTaESP/roberta.ipynb#ch0000000vscode-remote?line=5'>6</a>\u001b[0m         gpus[\u001b[39m0\u001b[39m],\n\u001b[1;32m      <a href='vscode-notebook-cell://ssh-remote%2B10.117.129.199/home/mperez/nlp/subject_competition/RoBERTaESP/roberta.ipynb#ch0000000vscode-remote?line=6'>7</a>\u001b[0m         [tf\u001b[39m.\u001b[39mconfig\u001b[39m.\u001b[39mLogicalDeviceConfiguration(memory_limit\u001b[39m=\u001b[39m\u001b[39m9216\u001b[39m  )])\n",
      "\u001b[0;31mIndexError\u001b[0m: list index out of range"
     ]
    }
   ],
   "source": [
    "import tensorflow as tf\n",
    "gpus = tf.config.list_physical_devices('GPU')\n",
    "tf.config.set_visible_devices(gpus[0], 'GPU')\n",
    "tf.config.experimental.set_memory_growth(gpus[0], True)\n",
    "tf.config.set_logical_device_configuration(\n",
    "        gpus[0],\n",
    "        [tf.config.LogicalDeviceConfiguration(memory_limit=9216  )])"
   ]
  }
 ],
 "metadata": {
  "interpreter": {
   "hash": "d6a64f2c38f9968623135a8fad9c1eee06acf613206d3ab9bd941bde9bf30840"
  },
  "kernelspec": {
   "display_name": "Python 3.9.7 ('venv': venv)",
   "language": "python",
   "name": "python3"
  },
  "language_info": {
   "codemirror_mode": {
    "name": "ipython",
    "version": 3
   },
   "file_extension": ".py",
   "mimetype": "text/x-python",
   "name": "python",
   "nbconvert_exporter": "python",
   "pygments_lexer": "ipython3",
   "version": "3.9.7"
  },
  "orig_nbformat": 4
 },
 "nbformat": 4,
 "nbformat_minor": 2
}
